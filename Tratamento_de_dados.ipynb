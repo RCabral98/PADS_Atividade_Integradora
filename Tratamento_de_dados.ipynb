{
 "cells": [
  {
   "cell_type": "markdown",
   "id": "19200d04",
   "metadata": {},
   "source": [
    "![Insper](https://github.com/danielscarvalho/Insper-DS-Dicas/blob/master/Insper-Logo.png?raw=true)\n",
    "\n",
    "# Insper Pós-Graduação\n",
    "## Programa Avançado em Data Science e Decisão [»](https://www.insper.edu.br/pos-graduacao/programas-avancados/programa-avancado-em-data-science-e-decisao/)\n"
   ]
  },
  {
   "cell_type": "markdown",
   "id": "bd53497e",
   "metadata": {},
   "source": [
    "# Atividade Integradora\n",
    "## Setup"
   ]
  },
  {
   "cell_type": "markdown",
   "id": "a89785bb",
   "metadata": {},
   "source": [
    "### Dependencias"
   ]
  },
  {
   "cell_type": "code",
   "execution_count": null,
   "id": "ee571d49",
   "metadata": {},

   "outputs": [],
   "source": [
    "import pandas as pd\n",
    "import numpy as np\n",
    "from dfply import *\n",
    "import altair as alt\n",
    "import missingno as msno\n",
    "from ydata_profiling import ProfileReport\n",
    "import matplotlib\n",
    "import matplotlib.pyplot as plt "
   ]
  },
  {
   "cell_type": "markdown",
   "id": "7050ff5a",
   "metadata": {},
   "source": [
    "### Carregamento dos Dados"
   ]
  },
  {
   "cell_type": "code",
   "execution_count": null,
   "id": "f62b3424",
   "metadata": {},
   "outputs": [],
   "source": [
    "data = pd.read_csv(\"cs_bisnode_panel.csv\")\n",
    "dicionario_de_dados_0 = pd.read_excel(\"bisnode_variable_names.xls\", header=4)"
   ]
  },
  {
   "cell_type": "code",
   "execution_count": null,
   "id": "d59ed1c9",
   "metadata": {},
   "outputs": [],
   "source": [
    "data.head()"
   ]
  },
  {
   "cell_type": "markdown",
   "id": "c7eec859",
   "metadata": {},
   "source": [
    "## Limpeza dos Dados"
   ]
  },
  {
   "cell_type": "markdown",
   "id": "ae6a7773",
   "metadata": {},
   "source": [
    "### Dicionário de dados - Limpeza"
   ]
  },
  {
   "cell_type": "markdown",
   "id": "21ae71cf",
   "metadata": {},
   "source": [
    "Ao carregar o dicionário de dados a primeira coluna pega seu nome da quarta linha da tabela (argumento `header=4` acima). As outras três colunas são nomeadas abaixo."
   ]
  },
  {
   "cell_type": "code",
   "execution_count": null,
   "id": "87dad806",
   "metadata": {},
   "outputs": [],
   "source": [
    "dicionario_de_dados_1 = dicionario_de_dados_0.rename({'Unnamed: 1': 'description',\n",
    "                                                      'Unnamed: 2': 'type',\n",
    "                                                      'Unnamed: 3': 'footnote'},\n",
    "                                                     axis=1)"
   ]
  },
  {
   "cell_type": "code",
   "execution_count": null,
   "id": "49dd2c3f",
   "metadata": {},
   "outputs": [],

   "source": [
    "dicionario_de_dados_1.columns"
   ]
  },
  {
   "cell_type": "markdown",
   "id": "048efc9e",
   "metadata": {},
   "source": [
    "Então retiramos as linhas não relevantes para a analize, incluindo linhas totalmente em branco e uma linha com informação de versão da base de dados: \n",
    " - `v 0.92. 2021-02-04`"
   ]
  },
  {
   "cell_type": "code",
   "execution_count": null,
   "id": "cb5fc133",
   "metadata": {},
   "outputs": [],
   "source": [
    "dicionario_de_dados = dicionario_de_dados_1\\\n",
    "                       .drop(index=54)\\\n",
    "                       .dropna(how=\"all\")\\\n",
    "                       .reset_index()\\\n",
    "                       .drop('index', axis='columns')"
   ]
  },
  {
   "cell_type": "code",
   "execution_count": null,
   "id": "e89116b8",
   "metadata": {},
   "outputs": [],
   "source": [
    "dicionario_de_dados.sample(5)"
   ]
  },
  {
   "cell_type": "markdown",
   "id": "2d4a7f09",
   "metadata": {},
   "source": [
    "## Dados\n",
    "### Removendo colunas específicas:"
   ]
  },
  {
   "cell_type": "code",
   "execution_count": null,
   "id": "99a70236",
   "metadata": {},
   "outputs": [],
   "source": [
    "columns_to_remove = ['COGS', 'finished_prod', 'net_dom_sales', 'net_exp_sales', 'wages', 'D']\n",
    "\n",
    "data.drop(columns=columns_to_remove, inplace=True)\n",
    "\n",
    "data.columns"
   ]
  },
  {
   "cell_type": "markdown",
   "id": "501c7584",
   "metadata": {},
   "source": [
    "### Removendo dados do ano 2016:\n",
    "---\n",
    "\n",
    "Registros que começaram ou terminaram (ocorreram em) 2016 são removidos do conjunto."
   ]
  },
  {
   "cell_type": "code",
   "execution_count": null,
   "id": "f8f86763",
   "metadata": {},
   "outputs": [],
   "source": [
    "colunas_data = [\"begin\", \"end\", \"founded_date\", \"exit_date\"]\n",
    "\n",
    "data.dtypes[colunas_data]"
   ]
  },
  {
   "cell_type": "markdown",
   "id": "5731c467",
   "metadata": {},
   "source": [
    "Dados destas colunas precisam estar em formato de datetime para serem operados corretamente, então vamos converte-los."
   ]
  },
  {
   "cell_type": "code",
   "execution_count": null,
   "id": "c8d44845",
   "metadata": {},
   "outputs": [],
   "source": [
    "missing_data_2 = show_missing(data).sort_values(\"pc_missing\", ascending=False, ignore_index = True)\n",
    "\n",
    "index_full_data_2 = list(missing_data_2[missing_data_2[\"missing\"]==0].index)\n",
    "\n",
    "missing_data_2.drop(labels=index_full_data_2, axis=\"index\", inplace=True)\n",
    "\n",
    "missing_data_2"
   ]
  },
  {
   "cell_type": "markdown",
   "id": "503d73a2",
   "metadata": {},
   "source": [
    "Removendo Registros do ano de 2016:"
   ]
  },
  {
   "cell_type": "code",
   "execution_count": null,
   "id": "d79f15a5",
   "metadata": {},
   "outputs": [],

   "source": [
    "Agora vamos tratar os dados que estão com faltas consideráveis e se faz sentido a falta de dados."
   ]
  },
  {
   "cell_type": "markdown",
   "id": "99abaf0a",
   "metadata": {},
   "source": [
    "### Criando coluna para Variável Dependente:\n",
    "---\n",
    "\n",
    "- Vamos operar com o conceito de \"atividade\", empresas que não tiveram atividade por mais de 2 anos são consideradas \"inativas\".\n",
    "\n",
    "Obs.: ativa = 0, inativa = 1"
   ]
  },
  {
   "cell_type": "code",
   "execution_count": null,
   "id": "b4a3f70f",

   "metadata": {},
   "outputs": [],
   "source": [
    "# Sort the DataFrame by company and year\n",
    "data.sort_values(by=['comp_id', 'year'], inplace=True)\n",
    "\n",
    "# Create shifted columns to check sales in the following 2 years\n",
    "conditions_x1 = [((data['comp_id'] == data['comp_id'].shift(-1)) &\n",
    "                  (data['year'] == data['year'].shift(-1) - 1)),\n",
    "\n",
    "                 ((data['comp_id'] != data['comp_id'].shift(-1)) |\n",
    "                  data['year'] != data['year'].shift(-1))]\n",
    "\n",
    "values_x1 = [data['sales'].shift(-1),\n",
    "             np.nan]\n",
    "\n",
    "data['sales_x1'] = np.select(conditions_x1, values_x1)\n",
    "\n",
    "\n",
    "conditions_x2 = [\n",
    "    ((data['comp_id'] == data['comp_id'].shift(-1)) &\n",
    "     (data['year'] == data['year'].shift(-1) - 2)),\n",
    "\n",
    "    ((data['comp_id'] == data['comp_id'].shift(-2)) &\n",
    "     (data['year'] == data['year'].shift(-2) - 2)),\n",
    "\n",
    "    True\n",
    "]\n",
    "\n",
    "values_x2 = [data['sales'].shift(-1),\n",
    "             data['sales'].shift(-2),\n",
    "             np.nan]\n",
    "\n",
    "data['sales_x2'] = np.select(conditions_x2, values_x2)\n",
    "\n",
    "\n",
    "# Create a condition to identify companies that ceased to operate \n",
    "# (sem vendas por mais de 2 anos)\n",
    "condition = (data['sales_x1'] == 0) & (data['sales_x2'] == 0)\n",
    "\n",
    "# Create a new 'dependente' column with 1 for ceased companies and 0 otherwise\n",
    "data['dependente'] = condition.astype(int)\n"
   ]
  },
  {
   "cell_type": "markdown",
   "id": "80f8dd79",
   "metadata": {},
   "source": [
    "Vamos conferir os valores da variavel dependente para as duas primeiras empresas do dataframe:"
   ]
  },
  {
   "cell_type": "code",
   "execution_count": null,
   "id": "120e1032",
   "metadata": {},
   "outputs": [],
   "source": [
    "# lista de colunas para avaliação:\n",
    "check_list=[\"comp_id\", \"year\", \"sales\", \"sales_x1\", \"sales_x2\", \"dependente\"]\n",
    "\n",
    "data[check_list].head(18)"
   ]
  },
  {
   "cell_type": "code",
   "execution_count": 117,
   "id": "6a7b10f0",
   "metadata": {},
   "outputs": [
    {
     "data": {
      "text/html": [
       "<div>\n",
       "<style scoped>\n",
       "    .dataframe tbody tr th:only-of-type {\n",
       "        vertical-align: middle;\n",
       "    }\n",
       "\n",
       "    .dataframe tbody tr th {\n",
       "        vertical-align: top;\n",
       "    }\n",
       "\n",
       "    .dataframe thead th {\n",
       "        text-align: right;\n",
       "    }\n",
       "</style>\n",
       "<table border=\"1\" class=\"dataframe\">\n",
       "  <thead>\n",
       "    <tr style=\"text-align: right;\">\n",
       "      <th></th>\n",
       "      <th>comp_id</th>\n",
       "      <th>year</th>\n",
       "      <th>sales</th>\n",
       "      <th>sales_x1</th>\n",
       "      <th>sales_x2</th>\n",
       "      <th>dependente</th>\n",
       "    </tr>\n",
       "  </thead>\n",
       "  <tbody>\n",
       "    <tr>\n",
       "      <th>count</th>\n",
       "      <td>2.587290e+05</td>\n",
       "      <td>258729.000000</td>\n",
       "      <td>2.587290e+05</td>\n",
       "      <td>2.587280e+05</td>\n",
       "      <td>2.587270e+05</td>\n",
       "      <td>258729.000000</td>\n",
       "    </tr>\n",
       "    <tr>\n",
       "      <th>mean</th>\n",
       "      <td>1.540156e+11</td>\n",
       "      <td>2010.448319</td>\n",
       "      <td>4.731183e+05</td>\n",
       "      <td>4.731199e+05</td>\n",
       "      <td>4.731215e+05</td>\n",
       "      <td>0.091714</td>\n",
       "    </tr>\n",
       "    <tr>\n",
       "      <th>std</th>\n",
       "      <td>1.382643e+11</td>\n",
       "      <td>3.066244</td>\n",
       "      <td>3.775571e+06</td>\n",
       "      <td>3.775578e+06</td>\n",
       "      <td>3.775585e+06</td>\n",
       "      <td>0.288622</td>\n",
       "    </tr>\n",
       "    <tr>\n",
       "      <th>min</th>\n",
       "      <td>1.001034e+06</td>\n",
       "      <td>2005.000000</td>\n",
       "      <td>-1.472559e+07</td>\n",
       "      <td>-1.472559e+07</td>\n",
       "      <td>-1.472559e+07</td>\n",
       "      <td>0.000000</td>\n",
       "    </tr>\n",
       "    <tr>\n",
       "      <th>25%</th>\n",
       "      <td>2.857290e+10</td>\n",
       "      <td>2008.000000</td>\n",
       "      <td>4.744444e+03</td>\n",
       "      <td>4.744444e+03</td>\n",
       "      <td>4.744444e+03</td>\n",
       "      <td>0.000000</td>\n",
       "    </tr>\n",
       "    <tr>\n",
       "      <th>50%</th>\n",
       "      <td>1.153078e+11</td>\n",
       "      <td>2011.000000</td>\n",
       "      <td>3.042222e+04</td>\n",
       "      <td>3.042222e+04</td>\n",
       "      <td>3.042222e+04</td>\n",
       "      <td>0.000000</td>\n",
       "    </tr>\n",
       "    <tr>\n",
       "      <th>75%</th>\n",
       "      <td>2.593265e+11</td>\n",
       "      <td>2013.000000</td>\n",
       "      <td>1.106704e+05</td>\n",
       "      <td>1.106704e+05</td>\n",
       "      <td>1.106704e+05</td>\n",
       "      <td>0.000000</td>\n",
       "    </tr>\n",
       "    <tr>\n",
       "      <th>max</th>\n",
       "      <td>4.641209e+11</td>\n",
       "      <td>2015.000000</td>\n",
       "      <td>1.110294e+08</td>\n",
       "      <td>1.110294e+08</td>\n",
       "      <td>1.110294e+08</td>\n",
       "      <td>1.000000</td>\n",
       "    </tr>\n",
       "  </tbody>\n",
       "</table>\n",
       "</div>"
      ],
      "text/plain": [
       "            comp_id           year         sales      sales_x1      sales_x2  \\\n",
       "count  2.587290e+05  258729.000000  2.587290e+05  2.587280e+05  2.587270e+05   \n",
       "mean   1.540156e+11    2010.448319  4.731183e+05  4.731199e+05  4.731215e+05   \n",
       "std    1.382643e+11       3.066244  3.775571e+06  3.775578e+06  3.775585e+06   \n",
       "min    1.001034e+06    2005.000000 -1.472559e+07 -1.472559e+07 -1.472559e+07   \n",
       "25%    2.857290e+10    2008.000000  4.744444e+03  4.744444e+03  4.744444e+03   \n",
       "50%    1.153078e+11    2011.000000  3.042222e+04  3.042222e+04  3.042222e+04   \n",
       "75%    2.593265e+11    2013.000000  1.106704e+05  1.106704e+05  1.106704e+05   \n",
       "max    4.641209e+11    2015.000000  1.110294e+08  1.110294e+08  1.110294e+08   \n",
       "\n",
       "          dependente  \n",
       "count  258729.000000  \n",
       "mean        0.091714  \n",
       "std         0.288622  \n",
       "min         0.000000  \n",
       "25%         0.000000  \n",
       "50%         0.000000  \n",
       "75%         0.000000  \n",
       "max         1.000000  "
      ]
     },
     "execution_count": 117,
     "metadata": {},
     "output_type": "execute_result"
    }
   ],
   "source": [
    "data[check_list].describe()"
   ]
  },
  {
   "cell_type": "markdown",
   "id": "e93fa20a",
   "metadata": {},
   "source": [
    "Vemos que temos dados de venda com erros, onde há valores negativos para vendas, vamos tratar estes dados substituindo valores negativos por nulos (valor = 0)"
   ]
  },
  {
   "cell_type": "code",
   "execution_count": 118,
   "id": "121e585a",
   "metadata": {},
   "outputs": [],
   "source": [
    "# Remodelando os dados de vendas para corrigir os erros:\n",
    "\n",
    "for x in [\"sales\", \"sales_x1\", \"sales_x2\"]:\n",
    "    data[x] = np.where(data[x]<0, 0, data[x])\n",
    "\n",
    "data['dependente'] = condition.astype(int)"
   ]
  },
  {
   "cell_type": "code",
   "execution_count": 119,
   "id": "893d19bf",
   "metadata": {},
   "outputs": [
    {
     "data": {
      "text/html": [
       "<div>\n",
       "<style scoped>\n",
       "    .dataframe tbody tr th:only-of-type {\n",
       "        vertical-align: middle;\n",
       "    }\n",
       "\n",
       "    .dataframe tbody tr th {\n",
       "        vertical-align: top;\n",
       "    }\n",
       "\n",
       "    .dataframe thead th {\n",
       "        text-align: right;\n",
       "    }\n",
       "</style>\n",
       "<table border=\"1\" class=\"dataframe\">\n",
       "  <thead>\n",
       "    <tr style=\"text-align: right;\">\n",
       "      <th></th>\n",
       "      <th>comp_id</th>\n",
       "      <th>year</th>\n",
       "      <th>sales</th>\n",
       "      <th>sales_x1</th>\n",
       "      <th>sales_x2</th>\n",
       "      <th>dependente</th>\n",
       "    </tr>\n",
       "  </thead>\n",
       "  <tbody>\n",
       "    <tr>\n",
       "      <th>count</th>\n",
       "      <td>2.587290e+05</td>\n",
       "      <td>258729.000000</td>\n",
       "      <td>2.587290e+05</td>\n",
       "      <td>2.587280e+05</td>\n",
       "      <td>2.587270e+05</td>\n",
       "      <td>258729.000000</td>\n",
       "    </tr>\n",
       "    <tr>\n",
       "      <th>mean</th>\n",
       "      <td>1.540156e+11</td>\n",
       "      <td>2010.448319</td>\n",
       "      <td>4.731984e+05</td>\n",
       "      <td>4.731999e+05</td>\n",
       "      <td>4.732015e+05</td>\n",
       "      <td>0.091714</td>\n",
       "    </tr>\n",
       "    <tr>\n",
       "      <th>std</th>\n",
       "      <td>1.382643e+11</td>\n",
       "      <td>3.066244</td>\n",
       "      <td>3.775438e+06</td>\n",
       "      <td>3.775446e+06</td>\n",
       "      <td>3.775453e+06</td>\n",
       "      <td>0.288622</td>\n",
       "    </tr>\n",
       "    <tr>\n",
       "      <th>min</th>\n",
       "      <td>1.001034e+06</td>\n",
       "      <td>2005.000000</td>\n",
       "      <td>0.000000e+00</td>\n",
       "      <td>0.000000e+00</td>\n",
       "      <td>0.000000e+00</td>\n",
       "      <td>0.000000</td>\n",
       "    </tr>\n",
       "    <tr>\n",
       "      <th>25%</th>\n",
       "      <td>2.857290e+10</td>\n",
       "      <td>2008.000000</td>\n",
       "      <td>4.744444e+03</td>\n",
       "      <td>4.744444e+03</td>\n",
       "      <td>4.744444e+03</td>\n",
       "      <td>0.000000</td>\n",
       "    </tr>\n",
       "    <tr>\n",
       "      <th>50%</th>\n",
       "      <td>1.153078e+11</td>\n",
       "      <td>2011.000000</td>\n",
       "      <td>3.042222e+04</td>\n",
       "      <td>3.042222e+04</td>\n",
       "      <td>3.042222e+04</td>\n",
       "      <td>0.000000</td>\n",
       "    </tr>\n",
       "    <tr>\n",
       "      <th>75%</th>\n",
       "      <td>2.593265e+11</td>\n",
       "      <td>2013.000000</td>\n",
       "      <td>1.106704e+05</td>\n",
       "      <td>1.106704e+05</td>\n",
       "      <td>1.106704e+05</td>\n",
       "      <td>0.000000</td>\n",
       "    </tr>\n",
       "    <tr>\n",
       "      <th>max</th>\n",
       "      <td>4.641209e+11</td>\n",
       "      <td>2015.000000</td>\n",
       "      <td>1.110294e+08</td>\n",
       "      <td>1.110294e+08</td>\n",
       "      <td>1.110294e+08</td>\n",
       "      <td>1.000000</td>\n",
       "    </tr>\n",
       "  </tbody>\n",
       "</table>\n",
       "</div>"
      ],
      "text/plain": [
       "            comp_id           year         sales      sales_x1      sales_x2  \\\n",
       "count  2.587290e+05  258729.000000  2.587290e+05  2.587280e+05  2.587270e+05   \n",
       "mean   1.540156e+11    2010.448319  4.731984e+05  4.731999e+05  4.732015e+05   \n",
       "std    1.382643e+11       3.066244  3.775438e+06  3.775446e+06  3.775453e+06   \n",
       "min    1.001034e+06    2005.000000  0.000000e+00  0.000000e+00  0.000000e+00   \n",
       "25%    2.857290e+10    2008.000000  4.744444e+03  4.744444e+03  4.744444e+03   \n",
       "50%    1.153078e+11    2011.000000  3.042222e+04  3.042222e+04  3.042222e+04   \n",
       "75%    2.593265e+11    2013.000000  1.106704e+05  1.106704e+05  1.106704e+05   \n",
       "max    4.641209e+11    2015.000000  1.110294e+08  1.110294e+08  1.110294e+08   \n",
       "\n",
       "          dependente  \n",
       "count  258729.000000  \n",
       "mean        0.091714  \n",
       "std         0.288622  \n",
       "min         0.000000  \n",
       "25%         0.000000  \n",
       "50%         0.000000  \n",
       "75%         0.000000  \n",
       "max         1.000000  "
      ]
     },
     "execution_count": 119,
     "metadata": {},
     "output_type": "execute_result"
    }
   ],
   "source": [
    "data[check_list].describe()"
   ]
  },
  {
   "cell_type": "markdown",
   "id": "27e7b99a",
   "metadata": {},
   "source": [
    "Corrigimos os valores de vendas negativas, e assim também de dependentes que pudessem estar sendo afetados.\n",
    "\n",
    "Vamos agora:\n",
    " \n",
    "- tratar por fim os casos em que não há informações de venda para um próximo ano (por não haver um próximo ano;\n",
    "\n",
    "- criar uma coluna de vendas em \"Log\" para tratar a assimetria dos dados."
   ]
  },
  {
   "cell_type": "code",
   "execution_count": null,
   "id": "b02dce76",
   "metadata": {},
   "outputs": [],
   "source": []
  },
  {
   "cell_type": "markdown",
   "id": "f1daf1bd",
   "metadata": {},
   "source": [
    "Vamos averiguar agora os anos em que as empresas tiveram atividade e inatividade:"
   ]
  },
  {
   "cell_type": "code",
   "execution_count": null,
   "id": "ccde17eb",
   "metadata": {},
   "outputs": [],
   "source": [
    "data_grouped = data.groupby('comp_id')\n",
    "\n",
    "#Contando anos de acompanhamento\n",
    "comp_years = data_grouped['year'].count()\n",
    "\n",
    "#Contando anos de \"atividade\"\n",
    "active_years = data_grouped.apply(lambda group: (group['sales'] > 0).sum())\n",
    "\n",
    "#contando anos de \"inatividade\"\n",
    "inactive_years = data_grouped.apply(lambda group: (group['sales'] == 0).sum())\n",
    "\n",
    "#Contando anos de \"dependência\"\n",
    "depend_years = data_grouped.apply(lambda group: (group['dependente'] == 1).sum())"
   ]
  },
  {
   "cell_type": "code",
   "execution_count": null,
   "id": "4c9dbe0e",
   "metadata": {},
   "outputs": [],
   "source": [
    "activity_df = pd.DataFrame({\"Total years\":comp_years,\n",
    "                            \"Active years\":active_years, \n",
    "                            \"Inactive years\":inactive_years,\n",
    "                            \"Dependent years\":depend_years})\n",
    "\n",
    "activity_df"
   ]
  },
  {
   "cell_type": "markdown",
   "id": "2c5026b4",
   "metadata": {
    "jupyter": {
     "outputs_hidden": false
    }
   },
   "source": [
    "## 2012"
   ]
  },
  {
   "cell_type": "code",
   "execution_count": null,
   "id": "f5b8e402",
   "metadata": {
    "jupyter": {
     "outputs_hidden": false
    }
   },
   "outputs": [],
   "source": [
    "data_2012 = data[data['year'] == 2012]\n",
    "data_2012.year.unique()"
   ]
  },
  {
   "cell_type": "code",
   "execution_count": null,
   "id": "1ca2261c",
   "metadata": {
    "jupyter": {
     "outputs_hidden": false
    }
   },
   "outputs": [],
   "source": [
    "import math"
   ]
  },
  {
   "cell_type": "markdown",
   "id": "bfa78107",
   "metadata": {
    "jupyter": {
     "outputs_hidden": false
    }
   },
   "source": [
    "### Sales"
   ]
  },
  {
   "cell_type": "code",
   "execution_count": null,
   "id": "f7690046",
   "metadata": {
    "jupyter": {
     "outputs_hidden": false
    }
   },
   "outputs": [],
   "source": [
    "data_2012.sales.describe()"
   ]
  },
  {
   "cell_type": "markdown",
   "id": "4c5415b9",
   "metadata": {
    "jupyter": {
     "outputs_hidden": false
    }
   },
   "source": [
    "Valores negativos não são válidos para a váriavel `sales`. O tratamento escolhido nesse caso é substituir valores negativos por 0."
   ]
  },
  {
   "cell_type": "code",
   "execution_count": null,
   "id": "6342e3db",
   "metadata": {
    "jupyter": {
     "outputs_hidden": false
    }
   },
   "outputs": [],
   "source": [
    "data_2012.loc[data['sales'] < 0] = 0\n",
    "data_2012.sales.describe()"
   ]
  },
  {
   "cell_type": "markdown",
   "id": "9c769632",
   "metadata": {
    "jupyter": {
     "outputs_hidden": false
    }
   },
   "source": [
    "Podemos ver ainda nas estatísticas descritivas que a média é maior que o terceiro quartil, indicando uma distribuição bastante assimétrica. Criamos então uma com o logarítmo de `sales` para auxiliar na análise."
   ]
  },
  {
   "cell_type": "code",
   "execution_count": null,
   "id": "641e3675",
   "metadata": {
    "jupyter": {
     "outputs_hidden": false
    }
   },
   "outputs": [],
   "source": [
    "data_2012.loc[:,'log_sales'] = data_2012.sales\\\n",
    "                                        .apply(lambda x: math.log(x)\\\n",
    "                                               if x != 0\\\n",
    "                                               else 0)\n",
    "\n",
    "data_2012.log_sales.describe()"
   ]
  },
  {
   "cell_type": "markdown",
   "id": "f196f016",
   "metadata": {
    "jupyter": {
     "outputs_hidden": false
    }
   },
   "source": [
    "### Idade da Empresa\n",
    "A idade da empresa eh calculada pela subtracao de `year` por `founded_year`, e a informacao eh guardada em `comp_age`."
   ]
  },
  {
   "cell_type": "code",
   "execution_count": null,
   "id": "f0b7c2d1",
   "metadata": {
    "jupyter": {
     "outputs_hidden": false
    }
   },
   "outputs": [],
   "source": [
    "data.year.isna().sum()"
   ]
  },
  {
   "cell_type": "code",
   "execution_count": null,
   "id": "b8051a99",
   "metadata": {
    "jupyter": {
     "outputs_hidden": false
    }
   },
   "outputs": [],
   "source": [
    "data.founded_year.isna().sum()"
   ]
  },
  {
   "cell_type": "code",
   "execution_count": null,
   "id": "9ab621f9",
   "metadata": {
    "jupyter": {
     "outputs_hidden": false
    }
   },
   "outputs": [],
   "source": [
    "duplicates = {'company': [], 'years': []}\n",
    "nulls = {'company': [], 'years': []}\n",
    "\n",
    "for company in data_2012.comp_id.unique():\n",
    "    company_year = data_2012.loc[data_2012['comp_id'] == company,\n",
    "                                 'founded_year'].unique()\n",
    "    if len(company_year) != 1:\n",
    "        duplicates['company'].append(company)\n",
    "        duplicates['years'].append(company_year)\n",
    "    elif np.nan in company_year:\n",
    "        nulls['company'].append(company)\n",
    "        nulls['years'].append(company_year)\n",
    "\n",
    "nulls"
   ]
  },
  {
   "cell_type": "code",
   "execution_count": null,
   "id": "5326a9e7",
   "metadata": {
    "jupyter": {
     "outputs_hidden": false
    }
   },
   "outputs": [],
   "source": [
    "data_2012.loc[data_2012['comp_id'] == 1001034,\n",
    "              'founded_year'].unique()"
   ]
  },
  {
   "cell_type": "code",
   "execution_count": null,
   "id": "8b4330b8",
   "metadata": {
    "jupyter": {
     "outputs_hidden": false
    }
   },
   "outputs": [],
   "source": [
    "data_2012.loc[(data_2012['comp_id'] == 1001034) &\n",
    "              (data_2012['founded_year'] == np.nan)]"
   ]
  }
 ],
 "metadata": {
  "kernelspec": {
   "argv": [
    "/opt/conda/bin/python",
    "-m",
    "ipykernel_launcher",
    "-f",
    "{connection_file}"
   ],
   "display_name": "Python 3 (ipykernel)",
   "env": null,
   "interrupt_mode": "signal",
   "language": "python",
   "metadata": {
    "debugger": true
   },
   "name": "python3"
  }
 },
 "nbformat": 4,
 "nbformat_minor": 5
}
