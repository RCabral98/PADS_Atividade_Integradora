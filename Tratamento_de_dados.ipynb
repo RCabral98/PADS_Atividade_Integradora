{
 "cells": [
  {
   "cell_type": "markdown",
   "id": "620fef44-3bec-40ab-a027-2c28db71ee12",
   "metadata": {
    "collapsed": false
   },
   "source": [
    "![Insper](https://github.com/danielscarvalho/Insper-DS-Dicas/blob/master/Insper-Logo.png?raw=true)\n",
    "\n",
    "# Insper Pós-Graduação\n",
    "## Programa Avançado em Data Science e Decisão [»](https://www.insper.edu.br/pos-graduacao/programas-avancados/programa-avancado-em-data-science-e-decisao/)\n"
   ]
  },
  {
   "cell_type": "markdown",
   "id": "60213f86-4f70-4fb3-9473-d1037d5a24fa",
   "metadata": {
    "collapsed": false
   },
   "source": [
    "# Atividade Integradora\n",
    "## Setup"
   ]
  },
  {
   "cell_type": "markdown",
   "id": "cdd7e94f-2a73-4185-b324-2f70ef5e8178",
   "metadata": {
    "collapsed": false
   },
   "source": [
    "### Dependencias"
   ]
  },
  {
   "cell_type": "code",
   "execution_count": 1,
   "id": "4c3a4c9c-ff73-43ea-9a8a-a6b3946b114b",
   "metadata": {
    "collapsed": false
   },
   "outputs": [],
   "source": [
    "import pandas as pd\n",
    "import numpy as np\n",
    "from dfply import *\n",
    "import altair as alt\n",
    "import missingno as msno"
   ]
  },
  {
   "cell_type": "markdown",
   "id": "2d6a1da2-3081-4430-95a1-e1e2a8fb5d49",
   "metadata": {
    "collapsed": false
   },
   "source": [
    "### Carregamento dos Dados"
   ]
  },
  {
   "cell_type": "code",
   "execution_count": 2,
   "id": "10aae61a-fd8e-44f7-8d8c-99532acf206d",
   "metadata": {
    "collapsed": false
   },
   "outputs": [],
   "source": [
    "data = pd.read_csv(\"cs_bisnode_panel.csv\")\n",
    "dicionario_de_dados_0 = pd.read_excel(\"bisnode_variable_names.xls\", header=4)"
   ]
  },
  {
   "cell_type": "code",
   "execution_count": 3,
   "id": "cf2fdf9d",
   "metadata": {},
   "outputs": [
    {
     "data": {
      "text/html": [
       "<div>\n",
       "<style scoped>\n",
       "    .dataframe tbody tr th:only-of-type {\n",
       "        vertical-align: middle;\n",
       "    }\n",
       "\n",
       "    .dataframe tbody tr th {\n",
       "        vertical-align: top;\n",
       "    }\n",
       "\n",
       "    .dataframe thead th {\n",
       "        text-align: right;\n",
       "    }\n",
       "</style>\n",
       "<table border=\"1\" class=\"dataframe\">\n",
       "  <thead>\n",
       "    <tr style=\"text-align: right;\">\n",
       "      <th></th>\n",
       "      <th>comp_id</th>\n",
       "      <th>begin</th>\n",
       "      <th>end</th>\n",
       "      <th>COGS</th>\n",
       "      <th>amort</th>\n",
       "      <th>curr_assets</th>\n",
       "      <th>curr_liab</th>\n",
       "      <th>extra_exp</th>\n",
       "      <th>extra_inc</th>\n",
       "      <th>extra_profit_loss</th>\n",
       "      <th>...</th>\n",
       "      <th>gender</th>\n",
       "      <th>origin</th>\n",
       "      <th>nace_main</th>\n",
       "      <th>ind2</th>\n",
       "      <th>ind</th>\n",
       "      <th>urban_m</th>\n",
       "      <th>region_m</th>\n",
       "      <th>founded_date</th>\n",
       "      <th>exit_date</th>\n",
       "      <th>labor_avg</th>\n",
       "    </tr>\n",
       "  </thead>\n",
       "  <tbody>\n",
       "    <tr>\n",
       "      <th>0</th>\n",
       "      <td>1001034.0</td>\n",
       "      <td>2005-01-01</td>\n",
       "      <td>2005-12-31</td>\n",
       "      <td>NaN</td>\n",
       "      <td>692.592590</td>\n",
       "      <td>7266.666504</td>\n",
       "      <td>7574.074219</td>\n",
       "      <td>0.0</td>\n",
       "      <td>0.0</td>\n",
       "      <td>0.0</td>\n",
       "      <td>...</td>\n",
       "      <td>mix</td>\n",
       "      <td>Domestic</td>\n",
       "      <td>5630.0</td>\n",
       "      <td>56.0</td>\n",
       "      <td>3.0</td>\n",
       "      <td>1</td>\n",
       "      <td>Central</td>\n",
       "      <td>1990-11-19</td>\n",
       "      <td>NaN</td>\n",
       "      <td>NaN</td>\n",
       "    </tr>\n",
       "    <tr>\n",
       "      <th>1</th>\n",
       "      <td>1001034.0</td>\n",
       "      <td>2006-01-01</td>\n",
       "      <td>2006-12-31</td>\n",
       "      <td>NaN</td>\n",
       "      <td>603.703674</td>\n",
       "      <td>13122.222656</td>\n",
       "      <td>12211.111328</td>\n",
       "      <td>0.0</td>\n",
       "      <td>0.0</td>\n",
       "      <td>0.0</td>\n",
       "      <td>...</td>\n",
       "      <td>mix</td>\n",
       "      <td>Domestic</td>\n",
       "      <td>5630.0</td>\n",
       "      <td>56.0</td>\n",
       "      <td>3.0</td>\n",
       "      <td>1</td>\n",
       "      <td>Central</td>\n",
       "      <td>1990-11-19</td>\n",
       "      <td>NaN</td>\n",
       "      <td>NaN</td>\n",
       "    </tr>\n",
       "    <tr>\n",
       "      <th>2</th>\n",
       "      <td>1001034.0</td>\n",
       "      <td>2007-01-01</td>\n",
       "      <td>2007-12-31</td>\n",
       "      <td>NaN</td>\n",
       "      <td>425.925934</td>\n",
       "      <td>8196.295898</td>\n",
       "      <td>7800.000000</td>\n",
       "      <td>0.0</td>\n",
       "      <td>0.0</td>\n",
       "      <td>0.0</td>\n",
       "      <td>...</td>\n",
       "      <td>mix</td>\n",
       "      <td>Domestic</td>\n",
       "      <td>5630.0</td>\n",
       "      <td>56.0</td>\n",
       "      <td>3.0</td>\n",
       "      <td>1</td>\n",
       "      <td>Central</td>\n",
       "      <td>1990-11-19</td>\n",
       "      <td>NaN</td>\n",
       "      <td>NaN</td>\n",
       "    </tr>\n",
       "    <tr>\n",
       "      <th>3</th>\n",
       "      <td>1001034.0</td>\n",
       "      <td>2008-01-01</td>\n",
       "      <td>2008-12-31</td>\n",
       "      <td>NaN</td>\n",
       "      <td>300.000000</td>\n",
       "      <td>8485.185547</td>\n",
       "      <td>7781.481445</td>\n",
       "      <td>0.0</td>\n",
       "      <td>0.0</td>\n",
       "      <td>0.0</td>\n",
       "      <td>...</td>\n",
       "      <td>mix</td>\n",
       "      <td>Domestic</td>\n",
       "      <td>5630.0</td>\n",
       "      <td>56.0</td>\n",
       "      <td>3.0</td>\n",
       "      <td>1</td>\n",
       "      <td>Central</td>\n",
       "      <td>1990-11-19</td>\n",
       "      <td>NaN</td>\n",
       "      <td>NaN</td>\n",
       "    </tr>\n",
       "    <tr>\n",
       "      <th>4</th>\n",
       "      <td>1001034.0</td>\n",
       "      <td>2009-01-01</td>\n",
       "      <td>2009-12-31</td>\n",
       "      <td>NaN</td>\n",
       "      <td>207.407410</td>\n",
       "      <td>5137.037109</td>\n",
       "      <td>15300.000000</td>\n",
       "      <td>0.0</td>\n",
       "      <td>0.0</td>\n",
       "      <td>0.0</td>\n",
       "      <td>...</td>\n",
       "      <td>mix</td>\n",
       "      <td>Domestic</td>\n",
       "      <td>5630.0</td>\n",
       "      <td>56.0</td>\n",
       "      <td>3.0</td>\n",
       "      <td>1</td>\n",
       "      <td>Central</td>\n",
       "      <td>1990-11-19</td>\n",
       "      <td>NaN</td>\n",
       "      <td>0.083333</td>\n",
       "    </tr>\n",
       "  </tbody>\n",
       "</table>\n",
       "<p>5 rows × 48 columns</p>\n",
       "</div>"
      ],
      "text/plain": [
       "     comp_id       begin         end  COGS       amort   curr_assets  \\\n",
       "0  1001034.0  2005-01-01  2005-12-31   NaN  692.592590   7266.666504   \n",
       "1  1001034.0  2006-01-01  2006-12-31   NaN  603.703674  13122.222656   \n",
       "2  1001034.0  2007-01-01  2007-12-31   NaN  425.925934   8196.295898   \n",
       "3  1001034.0  2008-01-01  2008-12-31   NaN  300.000000   8485.185547   \n",
       "4  1001034.0  2009-01-01  2009-12-31   NaN  207.407410   5137.037109   \n",
       "\n",
       "      curr_liab  extra_exp  extra_inc  extra_profit_loss  ...  gender  \\\n",
       "0   7574.074219        0.0        0.0                0.0  ...     mix   \n",
       "1  12211.111328        0.0        0.0                0.0  ...     mix   \n",
       "2   7800.000000        0.0        0.0                0.0  ...     mix   \n",
       "3   7781.481445        0.0        0.0                0.0  ...     mix   \n",
       "4  15300.000000        0.0        0.0                0.0  ...     mix   \n",
       "\n",
       "     origin  nace_main  ind2  ind  urban_m  region_m  founded_date  exit_date  \\\n",
       "0  Domestic     5630.0  56.0  3.0        1   Central    1990-11-19        NaN   \n",
       "1  Domestic     5630.0  56.0  3.0        1   Central    1990-11-19        NaN   \n",
       "2  Domestic     5630.0  56.0  3.0        1   Central    1990-11-19        NaN   \n",
       "3  Domestic     5630.0  56.0  3.0        1   Central    1990-11-19        NaN   \n",
       "4  Domestic     5630.0  56.0  3.0        1   Central    1990-11-19        NaN   \n",
       "\n",
       "   labor_avg  \n",
       "0        NaN  \n",
       "1        NaN  \n",
       "2        NaN  \n",
       "3        NaN  \n",
       "4   0.083333  \n",
       "\n",
       "[5 rows x 48 columns]"
      ]
     },
     "execution_count": 3,
     "metadata": {},
     "output_type": "execute_result"
    }
   ],
   "source": [
    "data.head()"
   ]
  },
  {
   "cell_type": "markdown",
   "id": "81fbb193-43e2-4f62-8bc4-db32ab6eed07",
   "metadata": {
    "collapsed": false
   },
   "source": [
    "## Limpeza dos Dados"
   ]
  },
  {
   "cell_type": "markdown",
   "id": "05c3fcf8-7e51-472f-833c-db5e22f6bb84",
   "metadata": {
    "collapsed": false
   },
   "source": [
    "### Dicionário de dados - Limpeza"
   ]
  },
  {
   "cell_type": "markdown",
   "id": "b548fe46-87db-4fac-9837-ff1366c6d537",
   "metadata": {
    "collapsed": false
   },
   "source": [
    "Ao carregar o dicionário de dados a primeira coluna pega seu nome da quarta linha da tabela (argumento `header=4` acima). As outras três colunas são nomeadas abaixo."
   ]
  },
  {
   "cell_type": "code",
   "execution_count": 4,
   "id": "f3f833bd-a698-409e-ba2c-0d1f6f69e7a8",
   "metadata": {
    "collapsed": false
   },
   "outputs": [],
   "source": [
    "dicionario_de_dados_1 = dicionario_de_dados_0.rename({'Unnamed: 1': 'description',\n",
    "                                                      'Unnamed: 2': 'type',\n",
    "                                                      'Unnamed: 3': 'footnote'},\n",
    "                                                     axis=1)"
   ]
  },
  {
   "cell_type": "code",
   "execution_count": 5,
   "id": "969f3a80-b4b7-4a4d-b658-4624ec07bb15",
   "metadata": {
    "collapsed": false
   },
   "outputs": [
    {
     "data": {
      "text/plain": [
       "Index(['variable', 'description', 'type', 'footnote'], dtype='object')"
      ]
     },
     "execution_count": 5,
     "metadata": {},
     "output_type": "execute_result"
    }
   ],
   "source": [
    "dicionario_de_dados_1.columns"
   ]
  },
  {
   "cell_type": "markdown",
   "id": "d5e680f5-e351-4bb0-8e66-e16228e181b3",
   "metadata": {
    "collapsed": false
   },
   "source": [
    "Então retiramos as linhas não relevantes para a analize, incluindo linhas totalmente em branco e uma linha com informação de versão da base de dados: \n",
    " - `v 0.92. 2021-02-04`"
   ]
  },
  {
   "cell_type": "code",
   "execution_count": 6,
   "id": "0369c237-f54d-4709-a66e-2611d5d47329",
   "metadata": {
    "collapsed": false
   },
   "outputs": [],
   "source": [
    "dicionario_de_dados = dicionario_de_dados_1\\\n",
    "                       .drop(index=54)\\\n",
    "                       .dropna(how=\"all\")\\\n",
    "                       .reset_index()\\\n",
    "                       .drop('index', axis='columns')"
   ]
  },
  {
   "cell_type": "code",
   "execution_count": 7,
   "id": "7128bed8-32cf-4585-bcb5-77dc75c22eb1",
   "metadata": {
    "collapsed": false
   },
   "outputs": [
    {
     "data": {
      "text/html": [
       "<div>\n",
       "<style scoped>\n",
       "    .dataframe tbody tr th:only-of-type {\n",
       "        vertical-align: middle;\n",
       "    }\n",
       "\n",
       "    .dataframe tbody tr th {\n",
       "        vertical-align: top;\n",
       "    }\n",
       "\n",
       "    .dataframe thead th {\n",
       "        text-align: right;\n",
       "    }\n",
       "</style>\n",
       "<table border=\"1\" class=\"dataframe\">\n",
       "  <thead>\n",
       "    <tr style=\"text-align: right;\">\n",
       "      <th></th>\n",
       "      <th>variable</th>\n",
       "      <th>description</th>\n",
       "      <th>type</th>\n",
       "      <th>footnote</th>\n",
       "    </tr>\n",
       "  </thead>\n",
       "  <tbody>\n",
       "    <tr>\n",
       "      <th>6</th>\n",
       "      <td>curr_liab</td>\n",
       "      <td>current liabilities</td>\n",
       "      <td>numeric</td>\n",
       "      <td>(euros)</td>\n",
       "    </tr>\n",
       "    <tr>\n",
       "      <th>11</th>\n",
       "      <td>fixed_assets</td>\n",
       "      <td>fixed assets</td>\n",
       "      <td>numeric</td>\n",
       "      <td>(euros)</td>\n",
       "    </tr>\n",
       "    <tr>\n",
       "      <th>19</th>\n",
       "      <td>personnel_exp</td>\n",
       "      <td>personnel expenditure</td>\n",
       "      <td>numeric</td>\n",
       "      <td>(euros)</td>\n",
       "    </tr>\n",
       "    <tr>\n",
       "      <th>20</th>\n",
       "      <td>profit_loss_year</td>\n",
       "      <td>Profit/loss, annuak</td>\n",
       "      <td>numeric</td>\n",
       "      <td>(euros)</td>\n",
       "    </tr>\n",
       "    <tr>\n",
       "      <th>29</th>\n",
       "      <td>year</td>\n",
       "      <td>year</td>\n",
       "      <td>date</td>\n",
       "      <td>NaN</td>\n",
       "    </tr>\n",
       "  </tbody>\n",
       "</table>\n",
       "</div>"
      ],
      "text/plain": [
       "            variable            description     type footnote\n",
       "6          curr_liab    current liabilities  numeric  (euros)\n",
       "11      fixed_assets           fixed assets  numeric  (euros)\n",
       "19     personnel_exp  personnel expenditure  numeric  (euros)\n",
       "20  profit_loss_year    Profit/loss, annuak  numeric  (euros)\n",
       "29              year                   year     date      NaN"
      ]
     },
     "execution_count": 7,
     "metadata": {},
     "output_type": "execute_result"
    }
   ],
   "source": [
    "dicionario_de_dados.sample(5)"
   ]
  },
  {
   "cell_type": "markdown",
   "id": "51b41ee0",
   "metadata": {},
   "source": [
    "### Removendo colunas específicas:"
   ]
  },
  {
   "cell_type": "code",
   "execution_count": 22,
   "id": "8b41c1e0",
   "metadata": {},
   "outputs": [
    {
     "data": {
      "text/plain": [
       "Index(['comp_id', 'begin', 'end', 'amort', 'curr_assets', 'curr_liab',\n",
       "       'extra_exp', 'extra_inc', 'extra_profit_loss', 'fixed_assets',\n",
       "       'inc_bef_tax', 'intang_assets', 'inventories', 'liq_assets',\n",
       "       'material_exp', 'personnel_exp', 'profit_loss_year', 'sales',\n",
       "       'share_eq', 'subscribed_cap', 'tang_assets', 'balsheet_flag',\n",
       "       'balsheet_length', 'balsheet_notfullyear', 'year', 'founded_year',\n",
       "       'exit_year', 'ceo_count', 'foreign', 'female', 'birth_year',\n",
       "       'inoffice_days', 'gender', 'origin', 'nace_main', 'ind2', 'ind',\n",
       "       'urban_m', 'region_m', 'founded_date', 'exit_date', 'labor_avg'],\n",
       "      dtype='object')"
      ]
     },
     "execution_count": 22,
     "metadata": {},
     "output_type": "execute_result"
    }
   ],
   "source": [
    "columns_to_remove = ['COGS', 'finished_prod', 'net_dom_sales', 'net_exp_sales', 'wages', 'D']\n",
    "\n",
    "data.drop(columns=columns_to_remove, inplace=True)\n",
    "\n",
    "data.columns"
   ]
  },
  {
   "cell_type": "markdown",
   "id": "bd45aaa0",
   "metadata": {},
   "source": [
    "### Removendo dados do ano 2016:\n",
    "\n",
    "Registros que começaram ou terminaram (ocorreram em) 2016 são removidos do conjunto."
   ]
  },
  {
   "cell_type": "code",
   "execution_count": 23,
   "id": "fa91abc9",
   "metadata": {},
   "outputs": [
    {
     "data": {
      "text/plain": [
       "begin           datetime64[ns]\n",
       "end             datetime64[ns]\n",
       "founded_date    datetime64[ns]\n",
       "exit_date       datetime64[ns]\n",
       "dtype: object"
      ]
     },
     "execution_count": 23,
     "metadata": {},
     "output_type": "execute_result"
    }
   ],
   "source": [
    "colunas_data = [\"begin\", \"end\", \"founded_date\", \"exit_date\"]\n",
    "\n",
    "data.dtypes[colunas_data]"
   ]
  },
  {
   "cell_type": "markdown",
   "id": "f22d6c5c",
   "metadata": {},
   "source": [
    "Dados destas colunas precisam estar em formato de datetime para serem operados corretamente, então vamos converte-los."
   ]
  },
  {
   "cell_type": "code",
   "execution_count": 10,
   "id": "8dfac4eb",
   "metadata": {},
   "outputs": [
    {
     "data": {
      "text/plain": [
       "begin           datetime64[ns]\n",
       "end             datetime64[ns]\n",
       "founded_date    datetime64[ns]\n",
       "exit_date       datetime64[ns]\n",
       "dtype: object"
      ]
     },
     "execution_count": 10,
     "metadata": {},
     "output_type": "execute_result"
    }
   ],
   "source": [
    "for column in colunas_data:\n",
    "    data[column] = pd.to_datetime(data[column], format=\"%Y-%m-%d\")\n",
    "\n",
    "data[colunas_data].dtypes"
   ]
  },
  {
   "cell_type": "markdown",
   "id": "3aeeaf97",
   "metadata": {},
   "source": [
    "Removendo Registros do ano de 2016:"
   ]
  },
  {
   "cell_type": "code",
   "execution_count": 11,
   "id": "4845059c",
   "metadata": {},
   "outputs": [
    {
     "data": {
      "text/plain": [
       "array([2005, 2006, 2007, 2008, 2009, 2010, 2011, 2012, 2013, 2014, 2015],\n",
       "      dtype=int64)"
      ]
     },
     "execution_count": 11,
     "metadata": {},
     "output_type": "execute_result"
    }
   ],
   "source": [
    "data = data[data[\"year\"]!=2016]\n",
    "data[\"year\"].unique()"
   ]
  },
  {
   "cell_type": "markdown",
   "id": "4c5c548a",
   "metadata": {},
   "source": [
    "### Criando coluna para variável \"Dependente\":\n",
    "---\n",
    "\n",
    "- Vamos operar com o conceito de \"atividade\", empresas que não tiveram atividade por mais de 2 anos são consideradas \"inativas\".\n",
    "\n",
    "Obs.: ativa = 0, inativa = 1"
   ]
  },
  {
   "cell_type": "code",
   "execution_count": 55,
   "id": "ce644ff2",
   "metadata": {},
   "outputs": [],
   "source": [
    "# Sort the DataFrame by company and year\n",
    "data.sort_values(by=['comp_id', 'year'], inplace=True)\n",
    "\n",
    "# Create a shifted column to check sales in X + 2 years\n",
    "data['sales_x1'] = data['sales'].shift(-1)\n",
    "data['sales_x2'] = data['sales'].shift(-2)\n",
    "\n",
    "# Create a condition to identify companies that ceased to operate \n",
    "# (sem vendas por mais de 2 anos)\n",
    "condition = (data['sales_x1'] == 0) & (data['sales_x2'] == 0)\n",
    "\n",
    "# Create a new 'dependente' column with 1 for ceased companies and 0 otherwise\n",
    "data['dependente'] = condition.astype(int)\n"
   ]
  },
  {
   "cell_type": "markdown",
   "id": "ad8786ef",
   "metadata": {},
   "source": [
    "Vamos observar as duas primeiras empresas da dataframe para averiguar seus estados de \"dependencia\":"
   ]
  },
  {
   "cell_type": "code",
   "execution_count": 56,
   "id": "47c1ae21",
   "metadata": {},
   "outputs": [
    {
     "data": {
      "text/html": [
       "<div>\n",
       "<style scoped>\n",
       "    .dataframe tbody tr th:only-of-type {\n",
       "        vertical-align: middle;\n",
       "    }\n",
       "\n",
       "    .dataframe tbody tr th {\n",
       "        vertical-align: top;\n",
       "    }\n",
       "\n",
       "    .dataframe thead th {\n",
       "        text-align: right;\n",
       "    }\n",
       "</style>\n",
       "<table border=\"1\" class=\"dataframe\">\n",
       "  <thead>\n",
       "    <tr style=\"text-align: right;\">\n",
       "      <th></th>\n",
       "      <th>comp_id</th>\n",
       "      <th>year</th>\n",
       "      <th>sales</th>\n",
       "      <th>sales_x1</th>\n",
       "      <th>sales_x2</th>\n",
       "      <th>dependente</th>\n",
       "    </tr>\n",
       "  </thead>\n",
       "  <tbody>\n",
       "    <tr>\n",
       "      <th>0</th>\n",
       "      <td>1001034.0</td>\n",
       "      <td>2005</td>\n",
       "      <td>62751.851562</td>\n",
       "      <td>64625.925781</td>\n",
       "      <td>65100.000000</td>\n",
       "      <td>0</td>\n",
       "    </tr>\n",
       "    <tr>\n",
       "      <th>1</th>\n",
       "      <td>1001034.0</td>\n",
       "      <td>2006</td>\n",
       "      <td>64625.925781</td>\n",
       "      <td>65100.000000</td>\n",
       "      <td>78085.187500</td>\n",
       "      <td>0</td>\n",
       "    </tr>\n",
       "    <tr>\n",
       "      <th>2</th>\n",
       "      <td>1001034.0</td>\n",
       "      <td>2007</td>\n",
       "      <td>65100.000000</td>\n",
       "      <td>78085.187500</td>\n",
       "      <td>45388.890625</td>\n",
       "      <td>0</td>\n",
       "    </tr>\n",
       "    <tr>\n",
       "      <th>3</th>\n",
       "      <td>1001034.0</td>\n",
       "      <td>2008</td>\n",
       "      <td>78085.187500</td>\n",
       "      <td>45388.890625</td>\n",
       "      <td>9929.629883</td>\n",
       "      <td>0</td>\n",
       "    </tr>\n",
       "    <tr>\n",
       "      <th>4</th>\n",
       "      <td>1001034.0</td>\n",
       "      <td>2009</td>\n",
       "      <td>45388.890625</td>\n",
       "      <td>9929.629883</td>\n",
       "      <td>0.000000</td>\n",
       "      <td>0</td>\n",
       "    </tr>\n",
       "    <tr>\n",
       "      <th>5</th>\n",
       "      <td>1001034.0</td>\n",
       "      <td>2010</td>\n",
       "      <td>9929.629883</td>\n",
       "      <td>0.000000</td>\n",
       "      <td>0.000000</td>\n",
       "      <td>1</td>\n",
       "    </tr>\n",
       "    <tr>\n",
       "      <th>6</th>\n",
       "      <td>1001034.0</td>\n",
       "      <td>2011</td>\n",
       "      <td>0.000000</td>\n",
       "      <td>0.000000</td>\n",
       "      <td>0.000000</td>\n",
       "      <td>1</td>\n",
       "    </tr>\n",
       "    <tr>\n",
       "      <th>7</th>\n",
       "      <td>1001034.0</td>\n",
       "      <td>2012</td>\n",
       "      <td>0.000000</td>\n",
       "      <td>0.000000</td>\n",
       "      <td>0.000000</td>\n",
       "      <td>1</td>\n",
       "    </tr>\n",
       "    <tr>\n",
       "      <th>8</th>\n",
       "      <td>1001034.0</td>\n",
       "      <td>2013</td>\n",
       "      <td>0.000000</td>\n",
       "      <td>0.000000</td>\n",
       "      <td>0.000000</td>\n",
       "      <td>1</td>\n",
       "    </tr>\n",
       "    <tr>\n",
       "      <th>9</th>\n",
       "      <td>1001034.0</td>\n",
       "      <td>2014</td>\n",
       "      <td>0.000000</td>\n",
       "      <td>0.000000</td>\n",
       "      <td>925.925903</td>\n",
       "      <td>0</td>\n",
       "    </tr>\n",
       "    <tr>\n",
       "      <th>10</th>\n",
       "      <td>1001034.0</td>\n",
       "      <td>2015</td>\n",
       "      <td>0.000000</td>\n",
       "      <td>925.925903</td>\n",
       "      <td>0.000000</td>\n",
       "      <td>0</td>\n",
       "    </tr>\n",
       "    <tr>\n",
       "      <th>11</th>\n",
       "      <td>1001541.0</td>\n",
       "      <td>2009</td>\n",
       "      <td>925.925903</td>\n",
       "      <td>0.000000</td>\n",
       "      <td>0.000000</td>\n",
       "      <td>1</td>\n",
       "    </tr>\n",
       "    <tr>\n",
       "      <th>12</th>\n",
       "      <td>1001541.0</td>\n",
       "      <td>2010</td>\n",
       "      <td>0.000000</td>\n",
       "      <td>0.000000</td>\n",
       "      <td>1203.703735</td>\n",
       "      <td>0</td>\n",
       "    </tr>\n",
       "    <tr>\n",
       "      <th>13</th>\n",
       "      <td>1001541.0</td>\n",
       "      <td>2011</td>\n",
       "      <td>0.000000</td>\n",
       "      <td>1203.703735</td>\n",
       "      <td>5555.555664</td>\n",
       "      <td>0</td>\n",
       "    </tr>\n",
       "    <tr>\n",
       "      <th>14</th>\n",
       "      <td>1001541.0</td>\n",
       "      <td>2012</td>\n",
       "      <td>1203.703735</td>\n",
       "      <td>5555.555664</td>\n",
       "      <td>4888.888672</td>\n",
       "      <td>0</td>\n",
       "    </tr>\n",
       "    <tr>\n",
       "      <th>15</th>\n",
       "      <td>1001541.0</td>\n",
       "      <td>2013</td>\n",
       "      <td>5555.555664</td>\n",
       "      <td>4888.888672</td>\n",
       "      <td>4888.888672</td>\n",
       "      <td>0</td>\n",
       "    </tr>\n",
       "    <tr>\n",
       "      <th>16</th>\n",
       "      <td>1001541.0</td>\n",
       "      <td>2014</td>\n",
       "      <td>4888.888672</td>\n",
       "      <td>4888.888672</td>\n",
       "      <td>347588.875000</td>\n",
       "      <td>0</td>\n",
       "    </tr>\n",
       "    <tr>\n",
       "      <th>17</th>\n",
       "      <td>1001541.0</td>\n",
       "      <td>2015</td>\n",
       "      <td>4888.888672</td>\n",
       "      <td>347588.875000</td>\n",
       "      <td>827214.812500</td>\n",
       "      <td>0</td>\n",
       "    </tr>\n",
       "  </tbody>\n",
       "</table>\n",
       "</div>"
      ],
      "text/plain": [
       "      comp_id  year         sales       sales_x1       sales_x2  dependente\n",
       "0   1001034.0  2005  62751.851562   64625.925781   65100.000000           0\n",
       "1   1001034.0  2006  64625.925781   65100.000000   78085.187500           0\n",
       "2   1001034.0  2007  65100.000000   78085.187500   45388.890625           0\n",
       "3   1001034.0  2008  78085.187500   45388.890625    9929.629883           0\n",
       "4   1001034.0  2009  45388.890625    9929.629883       0.000000           0\n",
       "5   1001034.0  2010   9929.629883       0.000000       0.000000           1\n",
       "6   1001034.0  2011      0.000000       0.000000       0.000000           1\n",
       "7   1001034.0  2012      0.000000       0.000000       0.000000           1\n",
       "8   1001034.0  2013      0.000000       0.000000       0.000000           1\n",
       "9   1001034.0  2014      0.000000       0.000000     925.925903           0\n",
       "10  1001034.0  2015      0.000000     925.925903       0.000000           0\n",
       "11  1001541.0  2009    925.925903       0.000000       0.000000           1\n",
       "12  1001541.0  2010      0.000000       0.000000    1203.703735           0\n",
       "13  1001541.0  2011      0.000000    1203.703735    5555.555664           0\n",
       "14  1001541.0  2012   1203.703735    5555.555664    4888.888672           0\n",
       "15  1001541.0  2013   5555.555664    4888.888672    4888.888672           0\n",
       "16  1001541.0  2014   4888.888672    4888.888672  347588.875000           0\n",
       "17  1001541.0  2015   4888.888672  347588.875000  827214.812500           0"
      ]
     },
     "execution_count": 56,
     "metadata": {},
     "output_type": "execute_result"
    }
   ],
   "source": [
    "# lista de colunas para avaliação:\n",
    "check_list=[\"comp_id\", \"year\", \"sales\", \"sales_x1\", \"sales_x2\", \"dependente\"]\n",
    "\n",
    "data[check_list].head(18)"
   ]
  },
  {
   "cell_type": "markdown",
   "id": "27cb2659",
   "metadata": {},
   "source": [
    "Vamos averiguar agora os anos em que as empresas tiveram atividade e inatividade:"
   ]
  },
  {
   "cell_type": "code",
   "execution_count": 94,
   "id": "57165215",
   "metadata": {},
   "outputs": [],
   "source": [
    "data_grouped = data.groupby('comp_id')\n",
    "\n",
    "#Contando anos de acompanhamento\n",
    "comp_years = data_grouped['year'].count()\n",
    "\n",
    "#Contando anos de \"atividade\"\n",
    "active_years = data_grouped.apply(lambda group: (group['sales'] > 0).sum())\n",
    "\n",
    "#contando anos de \"inatividade\"\n",
    "inactive_years = data_grouped.apply(lambda group: (group['sales'] == 0).sum())\n",
    "\n",
    "#Contando anos de \"dependência\"\n",
    "depend_years = data_grouped.apply(lambda group: (group['dependente'] == 1).sum())"
   ]
  },
  {
   "cell_type": "code",
   "execution_count": 96,
   "id": "0f73f8f2",
   "metadata": {},
   "outputs": [
    {
     "data": {
      "text/html": [
       "<div>\n",
       "<style scoped>\n",
       "    .dataframe tbody tr th:only-of-type {\n",
       "        vertical-align: middle;\n",
       "    }\n",
       "\n",
       "    .dataframe tbody tr th {\n",
       "        vertical-align: top;\n",
       "    }\n",
       "\n",
       "    .dataframe thead th {\n",
       "        text-align: right;\n",
       "    }\n",
       "</style>\n",
       "<table border=\"1\" class=\"dataframe\">\n",
       "  <thead>\n",
       "    <tr style=\"text-align: right;\">\n",
       "      <th></th>\n",
       "      <th>Total years</th>\n",
       "      <th>Active years</th>\n",
       "      <th>Inactive years</th>\n",
       "      <th>Dependent years</th>\n",
       "    </tr>\n",
       "    <tr>\n",
       "      <th>comp_id</th>\n",
       "      <th></th>\n",
       "      <th></th>\n",
       "      <th></th>\n",
       "      <th></th>\n",
       "    </tr>\n",
       "  </thead>\n",
       "  <tbody>\n",
       "    <tr>\n",
       "      <th>1.001034e+06</th>\n",
       "      <td>11</td>\n",
       "      <td>6</td>\n",
       "      <td>5</td>\n",
       "      <td>4</td>\n",
       "    </tr>\n",
       "    <tr>\n",
       "      <th>1.001541e+06</th>\n",
       "      <td>7</td>\n",
       "      <td>5</td>\n",
       "      <td>2</td>\n",
       "      <td>1</td>\n",
       "    </tr>\n",
       "    <tr>\n",
       "      <th>1.002029e+06</th>\n",
       "      <td>9</td>\n",
       "      <td>9</td>\n",
       "      <td>0</td>\n",
       "      <td>0</td>\n",
       "    </tr>\n",
       "    <tr>\n",
       "      <th>1.003200e+06</th>\n",
       "      <td>8</td>\n",
       "      <td>8</td>\n",
       "      <td>0</td>\n",
       "      <td>0</td>\n",
       "    </tr>\n",
       "    <tr>\n",
       "      <th>1.004012e+06</th>\n",
       "      <td>8</td>\n",
       "      <td>8</td>\n",
       "      <td>0</td>\n",
       "      <td>0</td>\n",
       "    </tr>\n",
       "    <tr>\n",
       "      <th>...</th>\n",
       "      <td>...</td>\n",
       "      <td>...</td>\n",
       "      <td>...</td>\n",
       "      <td>...</td>\n",
       "    </tr>\n",
       "    <tr>\n",
       "      <th>4.640446e+11</th>\n",
       "      <td>8</td>\n",
       "      <td>7</td>\n",
       "      <td>1</td>\n",
       "      <td>0</td>\n",
       "    </tr>\n",
       "    <tr>\n",
       "      <th>4.640568e+11</th>\n",
       "      <td>3</td>\n",
       "      <td>3</td>\n",
       "      <td>0</td>\n",
       "      <td>0</td>\n",
       "    </tr>\n",
       "    <tr>\n",
       "      <th>4.640793e+11</th>\n",
       "      <td>1</td>\n",
       "      <td>0</td>\n",
       "      <td>1</td>\n",
       "      <td>0</td>\n",
       "    </tr>\n",
       "    <tr>\n",
       "      <th>4.641050e+11</th>\n",
       "      <td>11</td>\n",
       "      <td>11</td>\n",
       "      <td>0</td>\n",
       "      <td>0</td>\n",
       "    </tr>\n",
       "    <tr>\n",
       "      <th>4.641209e+11</th>\n",
       "      <td>10</td>\n",
       "      <td>6</td>\n",
       "      <td>4</td>\n",
       "      <td>3</td>\n",
       "    </tr>\n",
       "  </tbody>\n",
       "</table>\n",
       "<p>46412 rows × 4 columns</p>\n",
       "</div>"
      ],
      "text/plain": [
       "              Total years  Active years  Inactive years  Dependent years\n",
       "comp_id                                                                 \n",
       "1.001034e+06           11             6               5                4\n",
       "1.001541e+06            7             5               2                1\n",
       "1.002029e+06            9             9               0                0\n",
       "1.003200e+06            8             8               0                0\n",
       "1.004012e+06            8             8               0                0\n",
       "...                   ...           ...             ...              ...\n",
       "4.640446e+11            8             7               1                0\n",
       "4.640568e+11            3             3               0                0\n",
       "4.640793e+11            1             0               1                0\n",
       "4.641050e+11           11            11               0                0\n",
       "4.641209e+11           10             6               4                3\n",
       "\n",
       "[46412 rows x 4 columns]"
      ]
     },
     "execution_count": 96,
     "metadata": {},
     "output_type": "execute_result"
    }
   ],
   "source": [
    "activity_df = pd.DataFrame({\"Total years\":comp_years, \"Active years\":active_years, \n",
    "                            \"Inactive years\":inactive_years, \"Dependent years\":depend_years})\n",
    "\n",
    "activity_df"
   ]
  }
 ],
 "metadata": {
  "kernelspec": {
   "argv": [
    "/opt/conda/bin/python",
    "-m",
    "ipykernel_launcher",
    "-f",
    "{connection_file}"
   ],
   "display_name": "Python 3 (ipykernel)",
   "env": null,
   "interrupt_mode": "signal",
   "language": "python",
   "metadata": {
    "debugger": true
   },
   "name": "python3"
  },
  "language_info": {
   "codemirror_mode": {
    "name": "ipython",
    "version": 3
   },
   "file_extension": ".py",
   "mimetype": "text/x-python",
   "name": "python",
   "nbconvert_exporter": "python",
   "pygments_lexer": "ipython3",
   "version": "3.11.5"
  },
  "name": "Tratamento_de_dados.ipynb"
 },
 "nbformat": 4,
 "nbformat_minor": 5
}
