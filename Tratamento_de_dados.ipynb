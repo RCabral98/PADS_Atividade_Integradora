{
 "cells": [
  {
   "cell_type": "markdown",
   "id": "620fef44-3bec-40ab-a027-2c28db71ee12",
   "metadata": {
    "collapsed": false
   },
   "source": [
    "![Insper](https://github.com/danielscarvalho/Insper-DS-Dicas/blob/master/Insper-Logo.png?raw=true)\n",
    "\n",
    "# Insper Pós-Graduação\n",
    "## Programa Avançado em Data Science e Decisão [»](https://www.insper.edu.br/pos-graduacao/programas-avancados/programa-avancado-em-data-science-e-decisao/)\n"
   ]
  },
  {
   "cell_type": "markdown",
   "id": "60213f86-4f70-4fb3-9473-d1037d5a24fa",
   "metadata": {
    "collapsed": false
   },
   "source": [
    "# Atividade Integradora\n",
    "## Setup"
   ]
  },
  {
   "cell_type": "markdown",
   "id": "cdd7e94f-2a73-4185-b324-2f70ef5e8178",
   "metadata": {
    "collapsed": false
   },
   "source": [
    "### Dependencias"
   ]
  },
  {
   "cell_type": "code",
   "execution_count": 1,
   "id": "4c3a4c9c-ff73-43ea-9a8a-a6b3946b114b",
   "metadata": {
    "collapsed": false
   },
   "outputs": [],
   "source": [
    "import pandas as pd\n",
    "import numpy as np\n",
    "from dfply import *\n",
    "import altair as alt\n",
    "import missingno as msno"
   ]
  },
  {
   "cell_type": "markdown",
   "id": "2d6a1da2-3081-4430-95a1-e1e2a8fb5d49",
   "metadata": {
    "collapsed": false
   },
   "source": [
    "### Carregamento dos Dados"
   ]
  },
  {
   "cell_type": "code",
   "execution_count": 2,
   "id": "10aae61a-fd8e-44f7-8d8c-99532acf206d",
   "metadata": {
    "collapsed": false
   },
   "outputs": [],
   "source": [
    "data = pd.read_csv(\"cs_bisnode_panel.csv\")\n",
    "dicionario_de_dados_0 = pd.read_excel(\"bisnode_variable_names.xls\", header=4)"
   ]
  },
  {
   "cell_type": "markdown",
   "id": "81fbb193-43e2-4f62-8bc4-db32ab6eed07",
   "metadata": {
    "collapsed": false
   },
   "source": [
    "## Limpeza dos Dados"
   ]
  },
  {
   "cell_type": "markdown",
   "id": "05c3fcf8-7e51-472f-833c-db5e22f6bb84",
   "metadata": {
    "collapsed": false
   },
   "source": [
    "### Dicionário de dados - Limpeza"
   ]
  },
  {
   "cell_type": "markdown",
   "id": "b548fe46-87db-4fac-9837-ff1366c6d537",
   "metadata": {
    "collapsed": false
   },
   "source": [
    "Ao carregar o dicionário de dados a primeira coluna pega seu nome da quarta linha da tabela (argumento `header=4` acima). As outras três colunas são nomeadas abaixo."
   ]
  },
  {
   "cell_type": "code",
   "execution_count": 6,
   "id": "f3f833bd-a698-409e-ba2c-0d1f6f69e7a8",
   "metadata": {
    "collapsed": false
   },
   "outputs": [],
   "source": [
    "dicionario_de_dados_1 = dicionario_de_dados_0.rename({'Unnamed: 1': 'description',\n",
    "                                                      'Unnamed: 2': 'type',\n",
    "                                                      'Unnamed: 3': 'footnote'},\n",
    "                                                     axis=1)"
   ]
  },
  {
   "cell_type": "code",
   "execution_count": 7,
   "id": "969f3a80-b4b7-4a4d-b658-4624ec07bb15",
   "metadata": {
    "collapsed": false
   },
   "outputs": [
    {
     "data": {
      "text/plain": [
       "Index(['variable', 'description', 'type', 'footnote'], dtype='object')"
      ]
     },
     "execution_count": 7,
     "metadata": {},
     "output_type": "execute_result"
    }
   ],
   "source": [
    "dicionario_de_dados_1.columns"
   ]
  },
  {
   "cell_type": "markdown",
   "id": "d5e680f5-e351-4bb0-8e66-e16228e181b3",
   "metadata": {
    "collapsed": false
   },
   "source": [
    "Então retiramos as linhas não relevantes para a analize, incluindo linhas totalmente em branco e uma linha com informação de versão da base de dados: \n",
    " - `v 0.92. 2021-02-04`"
   ]
  },
  {
   "cell_type": "code",
   "execution_count": 9,
   "id": "0369c237-f54d-4709-a66e-2611d5d47329",
   "metadata": {
    "collapsed": false
   },
   "outputs": [],
   "source": [
    "dicionario_de_dados = dicionario_de_dados_1\\\n",
    "                       .drop(index=54)\\\n",
    "                       .dropna(how=\"all\")\\\n",
    "                       .reset_index()\\\n",
    "                       .drop('index', axis='columns')"
   ]
  },
  {
   "cell_type": "code",
   "execution_count": 11,
   "id": "7128bed8-32cf-4585-bcb5-77dc75c22eb1",
   "metadata": {
    "collapsed": false
   },
   "outputs": [
    {
     "data": {
      "text/html": [
       "<div>\n",
       "<style scoped>\n",
       "    .dataframe tbody tr th:only-of-type {\n",
       "        vertical-align: middle;\n",
       "    }\n",
       "\n",
       "    .dataframe tbody tr th {\n",
       "        vertical-align: top;\n",
       "    }\n",
       "\n",
       "    .dataframe thead th {\n",
       "        text-align: right;\n",
       "    }\n",
       "</style>\n",
       "<table border=\"1\" class=\"dataframe\">\n",
       "  <thead>\n",
       "    <tr style=\"text-align: right;\">\n",
       "      <th></th>\n",
       "      <th>variable</th>\n",
       "      <th>description</th>\n",
       "      <th>type</th>\n",
       "      <th>footnote</th>\n",
       "    </tr>\n",
       "  </thead>\n",
       "  <tbody>\n",
       "    <tr>\n",
       "      <th>42</th>\n",
       "      <td>urban_m</td>\n",
       "      <td>Firm HQ</td>\n",
       "      <td>categorical</td>\n",
       "      <td>(1: capital city, 2: other big city 3: other)</td>\n",
       "    </tr>\n",
       "    <tr>\n",
       "      <th>12</th>\n",
       "      <td>inc_bef_tax</td>\n",
       "      <td>incomde before tax</td>\n",
       "      <td>numeric</td>\n",
       "      <td>(euros)</td>\n",
       "    </tr>\n",
       "    <tr>\n",
       "      <th>24</th>\n",
       "      <td>tang_assets</td>\n",
       "      <td>Tangible assets</td>\n",
       "      <td>numeric</td>\n",
       "      <td>(euros)</td>\n",
       "    </tr>\n",
       "    <tr>\n",
       "      <th>46</th>\n",
       "      <td>labor_avg</td>\n",
       "      <td>Number of emplyoees (annual average)</td>\n",
       "      <td>numeric</td>\n",
       "      <td>N/12 --- (annual average / 12, it's not ideal,...</td>\n",
       "    </tr>\n",
       "    <tr>\n",
       "      <th>29</th>\n",
       "      <td>year</td>\n",
       "      <td>year</td>\n",
       "      <td>date</td>\n",
       "      <td>NaN</td>\n",
       "    </tr>\n",
       "  </tbody>\n",
       "</table>\n",
       "</div>"
      ],
      "text/plain": [
       "       variable                           description         type  \\\n",
       "42      urban_m                              Firm HQ   categorical   \n",
       "12  inc_bef_tax                    incomde before tax      numeric   \n",
       "24  tang_assets                       Tangible assets      numeric   \n",
       "46    labor_avg  Number of emplyoees (annual average)      numeric   \n",
       "29         year                                  year         date   \n",
       "\n",
       "                                             footnote  \n",
       "42      (1: capital city, 2: other big city 3: other)  \n",
       "12                                            (euros)  \n",
       "24                                            (euros)  \n",
       "46  N/12 --- (annual average / 12, it's not ideal,...  \n",
       "29                                                NaN  "
      ]
     },
     "execution_count": 11,
     "metadata": {},
     "output_type": "execute_result"
    }
   ],
   "source": [
    "dicionario_de_dados.sample(5)"
   ]
  }
 ],
 "metadata": {
  "kernelspec": {
   "argv": [
    "/opt/conda/bin/python",
    "-m",
    "ipykernel_launcher",
    "-f",
    "{connection_file}"
   ],
   "display_name": "Python 3 (ipykernel)",
   "env": null,
   "interrupt_mode": "signal",
   "language": "python",
   "metadata": {
    "debugger": true
   },
   "name": "python3"
  },
  "name": "Tratamento_de_dados.ipynb"
 },
 "nbformat": 4,
 "nbformat_minor": 5
}
