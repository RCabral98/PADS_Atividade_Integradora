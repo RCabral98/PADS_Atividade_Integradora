{
 "cells": [
  {
   "cell_type": "markdown",
   "id": "19200d04",
   "metadata": {},
   "source": [
    "![Insper](https://github.com/danielscarvalho/Insper-DS-Dicas/blob/master/Insper-Logo.png?raw=true)\n",
    "\n",
    "# Insper Pós-Graduação\n",
    "## Programa Avançado em Data Science e Decisão [»](https://www.insper.edu.br/pos-graduacao/programas-avancados/programa-avancado-em-data-science-e-decisao/)\n"
   ]
  },
  {
   "cell_type": "markdown",
   "id": "bd53497e",
   "metadata": {},
   "source": [
    "# Atividade Integradora\n",
    "## Setup"
   ]
  },
  {
   "cell_type": "markdown",
   "id": "a89785bb",
   "metadata": {},
   "source": [
    "### Dependencias"
   ]
  },
  {
   "cell_type": "code",
   "execution_count": 1,
   "id": "ee571d49",
   "metadata": {},
   "outputs": [],
   "source": [
    "import pandas as pd\n",
    "import numpy as np\n",
    "from dfply import *\n",
    "import altair as alt\n",
    "import missingno as msno\n",
    "from ydata_profiling import ProfileReport\n",
    "import matplotlib\n",
    "import matplotlib.pyplot as plt "
   ]
  },
  {
   "cell_type": "markdown",
   "id": "7050ff5a",
   "metadata": {},
   "source": [
    "### Carregamento dos Dados"
   ]
  },
  {
   "cell_type": "code",
   "execution_count": 2,
   "id": "f62b3424",
   "metadata": {},
   "outputs": [],
   "source": [
    "data = pd.read_csv(\"cs_bisnode_panel.csv\")\n",
    "dicionario_de_dados_0 = pd.read_excel(\"bisnode_variable_names.xls\", header=4)"
   ]
  },
  {
   "cell_type": "code",
   "execution_count": 3,
   "id": "d59ed1c9",
   "metadata": {},
   "outputs": [
    {
     "data": {
      "text/html": [
       "<div>\n",
       "<style scoped>\n",
       "    .dataframe tbody tr th:only-of-type {\n",
       "        vertical-align: middle;\n",
       "    }\n",
       "\n",
       "    .dataframe tbody tr th {\n",
       "        vertical-align: top;\n",
       "    }\n",
       "\n",
       "    .dataframe thead th {\n",
       "        text-align: right;\n",
       "    }\n",
       "</style>\n",
       "<table border=\"1\" class=\"dataframe\">\n",
       "  <thead>\n",
       "    <tr style=\"text-align: right;\">\n",
       "      <th></th>\n",
       "      <th>comp_id</th>\n",
       "      <th>begin</th>\n",
       "      <th>end</th>\n",
       "      <th>COGS</th>\n",
       "      <th>amort</th>\n",
       "      <th>curr_assets</th>\n",
       "      <th>curr_liab</th>\n",
       "      <th>extra_exp</th>\n",
       "      <th>extra_inc</th>\n",
       "      <th>extra_profit_loss</th>\n",
       "      <th>...</th>\n",
       "      <th>gender</th>\n",
       "      <th>origin</th>\n",
       "      <th>nace_main</th>\n",
       "      <th>ind2</th>\n",
       "      <th>ind</th>\n",
       "      <th>urban_m</th>\n",
       "      <th>region_m</th>\n",
       "      <th>founded_date</th>\n",
       "      <th>exit_date</th>\n",
       "      <th>labor_avg</th>\n",
       "    </tr>\n",
       "  </thead>\n",
       "  <tbody>\n",
       "    <tr>\n",
       "      <th>0</th>\n",
       "      <td>1001034.0</td>\n",
       "      <td>2005-01-01</td>\n",
       "      <td>2005-12-31</td>\n",
       "      <td>NaN</td>\n",
       "      <td>692.592590</td>\n",
       "      <td>7266.666504</td>\n",
       "      <td>7574.074219</td>\n",
       "      <td>0.0</td>\n",
       "      <td>0.0</td>\n",
       "      <td>0.0</td>\n",
       "      <td>...</td>\n",
       "      <td>mix</td>\n",
       "      <td>Domestic</td>\n",
       "      <td>5630.0</td>\n",
       "      <td>56.0</td>\n",
       "      <td>3.0</td>\n",
       "      <td>1</td>\n",
       "      <td>Central</td>\n",
       "      <td>1990-11-19</td>\n",
       "      <td>NaN</td>\n",
       "      <td>NaN</td>\n",
       "    </tr>\n",
       "    <tr>\n",
       "      <th>1</th>\n",
       "      <td>1001034.0</td>\n",
       "      <td>2006-01-01</td>\n",
       "      <td>2006-12-31</td>\n",
       "      <td>NaN</td>\n",
       "      <td>603.703674</td>\n",
       "      <td>13122.222656</td>\n",
       "      <td>12211.111328</td>\n",
       "      <td>0.0</td>\n",
       "      <td>0.0</td>\n",
       "      <td>0.0</td>\n",
       "      <td>...</td>\n",
       "      <td>mix</td>\n",
       "      <td>Domestic</td>\n",
       "      <td>5630.0</td>\n",
       "      <td>56.0</td>\n",
       "      <td>3.0</td>\n",
       "      <td>1</td>\n",
       "      <td>Central</td>\n",
       "      <td>1990-11-19</td>\n",
       "      <td>NaN</td>\n",
       "      <td>NaN</td>\n",
       "    </tr>\n",
       "    <tr>\n",
       "      <th>2</th>\n",
       "      <td>1001034.0</td>\n",
       "      <td>2007-01-01</td>\n",
       "      <td>2007-12-31</td>\n",
       "      <td>NaN</td>\n",
       "      <td>425.925934</td>\n",
       "      <td>8196.295898</td>\n",
       "      <td>7800.000000</td>\n",
       "      <td>0.0</td>\n",
       "      <td>0.0</td>\n",
       "      <td>0.0</td>\n",
       "      <td>...</td>\n",
       "      <td>mix</td>\n",
       "      <td>Domestic</td>\n",
       "      <td>5630.0</td>\n",
       "      <td>56.0</td>\n",
       "      <td>3.0</td>\n",
       "      <td>1</td>\n",
       "      <td>Central</td>\n",
       "      <td>1990-11-19</td>\n",
       "      <td>NaN</td>\n",
       "      <td>NaN</td>\n",
       "    </tr>\n",
       "    <tr>\n",
       "      <th>3</th>\n",
       "      <td>1001034.0</td>\n",
       "      <td>2008-01-01</td>\n",
       "      <td>2008-12-31</td>\n",
       "      <td>NaN</td>\n",
       "      <td>300.000000</td>\n",
       "      <td>8485.185547</td>\n",
       "      <td>7781.481445</td>\n",
       "      <td>0.0</td>\n",
       "      <td>0.0</td>\n",
       "      <td>0.0</td>\n",
       "      <td>...</td>\n",
       "      <td>mix</td>\n",
       "      <td>Domestic</td>\n",
       "      <td>5630.0</td>\n",
       "      <td>56.0</td>\n",
       "      <td>3.0</td>\n",
       "      <td>1</td>\n",
       "      <td>Central</td>\n",
       "      <td>1990-11-19</td>\n",
       "      <td>NaN</td>\n",
       "      <td>NaN</td>\n",
       "    </tr>\n",
       "    <tr>\n",
       "      <th>4</th>\n",
       "      <td>1001034.0</td>\n",
       "      <td>2009-01-01</td>\n",
       "      <td>2009-12-31</td>\n",
       "      <td>NaN</td>\n",
       "      <td>207.407410</td>\n",
       "      <td>5137.037109</td>\n",
       "      <td>15300.000000</td>\n",
       "      <td>0.0</td>\n",
       "      <td>0.0</td>\n",
       "      <td>0.0</td>\n",
       "      <td>...</td>\n",
       "      <td>mix</td>\n",
       "      <td>Domestic</td>\n",
       "      <td>5630.0</td>\n",
       "      <td>56.0</td>\n",
       "      <td>3.0</td>\n",
       "      <td>1</td>\n",
       "      <td>Central</td>\n",
       "      <td>1990-11-19</td>\n",
       "      <td>NaN</td>\n",
       "      <td>0.083333</td>\n",
       "    </tr>\n",
       "  </tbody>\n",
       "</table>\n",
       "<p>5 rows × 48 columns</p>\n",
       "</div>"
      ],
      "text/plain": [
       "     comp_id       begin         end  COGS       amort   curr_assets  \\\n",
       "0  1001034.0  2005-01-01  2005-12-31   NaN  692.592590   7266.666504   \n",
       "1  1001034.0  2006-01-01  2006-12-31   NaN  603.703674  13122.222656   \n",
       "2  1001034.0  2007-01-01  2007-12-31   NaN  425.925934   8196.295898   \n",
       "3  1001034.0  2008-01-01  2008-12-31   NaN  300.000000   8485.185547   \n",
       "4  1001034.0  2009-01-01  2009-12-31   NaN  207.407410   5137.037109   \n",
       "\n",
       "      curr_liab  extra_exp  extra_inc  extra_profit_loss  ...  gender  \\\n",
       "0   7574.074219        0.0        0.0                0.0  ...     mix   \n",
       "1  12211.111328        0.0        0.0                0.0  ...     mix   \n",
       "2   7800.000000        0.0        0.0                0.0  ...     mix   \n",
       "3   7781.481445        0.0        0.0                0.0  ...     mix   \n",
       "4  15300.000000        0.0        0.0                0.0  ...     mix   \n",
       "\n",
       "     origin  nace_main  ind2  ind  urban_m  region_m  founded_date  exit_date  \\\n",
       "0  Domestic     5630.0  56.0  3.0        1   Central    1990-11-19        NaN   \n",
       "1  Domestic     5630.0  56.0  3.0        1   Central    1990-11-19        NaN   \n",
       "2  Domestic     5630.0  56.0  3.0        1   Central    1990-11-19        NaN   \n",
       "3  Domestic     5630.0  56.0  3.0        1   Central    1990-11-19        NaN   \n",
       "4  Domestic     5630.0  56.0  3.0        1   Central    1990-11-19        NaN   \n",
       "\n",
       "   labor_avg  \n",
       "0        NaN  \n",
       "1        NaN  \n",
       "2        NaN  \n",
       "3        NaN  \n",
       "4   0.083333  \n",
       "\n",
       "[5 rows x 48 columns]"
      ]
     },
     "execution_count": 3,
     "metadata": {},
     "output_type": "execute_result"
    }
   ],
   "source": [
    "data.head()"
   ]
  },
  {
   "cell_type": "markdown",
   "id": "c7eec859",
   "metadata": {},
   "source": [
    "## Limpeza dos Dados"
   ]
  },
  {
   "cell_type": "markdown",
   "id": "ae6a7773",
   "metadata": {},
   "source": [
    "### Dicionário de dados - Limpeza"
   ]
  },
  {
   "cell_type": "markdown",
   "id": "21ae71cf",
   "metadata": {},
   "source": [
    "Ao carregar o dicionário de dados a primeira coluna pega seu nome da quarta linha da tabela (argumento `header=4` acima). As outras três colunas são nomeadas abaixo."
   ]
  },
  {
   "cell_type": "code",
   "execution_count": 4,
   "id": "87dad806",
   "metadata": {},
   "outputs": [],
   "source": [
    "dicionario_de_dados_1 = dicionario_de_dados_0.rename({'Unnamed: 1': 'description',\n",
    "                                                      'Unnamed: 2': 'type',\n",
    "                                                      'Unnamed: 3': 'footnote'},\n",
    "                                                     axis=1)"
   ]
  },
  {
   "cell_type": "code",
   "execution_count": 5,
   "id": "49dd2c3f",
   "metadata": {},
   "outputs": [
    {
     "data": {
      "text/plain": [
       "Index(['variable', 'description', 'type', 'footnote'], dtype='object')"
      ]
     },
     "execution_count": 5,
     "metadata": {},
     "output_type": "execute_result"
    }
   ],
   "source": [
    "dicionario_de_dados_1.columns"
   ]
  },
  {
   "cell_type": "markdown",
   "id": "048efc9e",
   "metadata": {},
   "source": [
    "Então retiramos as linhas não relevantes para a analize, incluindo linhas totalmente em branco e uma linha com informação de versão da base de dados: \n",
    " - `v 0.92. 2021-02-04`"
   ]
  },
  {
   "cell_type": "code",
   "execution_count": 6,
   "id": "cb5fc133",
   "metadata": {},
   "outputs": [],
   "source": [
    "dicionario_de_dados = dicionario_de_dados_1\\\n",
    "                       .drop(index=54)\\\n",
    "                       .dropna(how=\"all\")\\\n",
    "                       .reset_index()\\\n",
    "                       .drop('index', axis='columns')"
   ]
  },
  {
   "cell_type": "code",
   "execution_count": 7,
   "id": "e89116b8",
   "metadata": {},
   "outputs": [
    {
     "data": {
      "text/html": [
       "<div>\n",
       "<style scoped>\n",
       "    .dataframe tbody tr th:only-of-type {\n",
       "        vertical-align: middle;\n",
       "    }\n",
       "\n",
       "    .dataframe tbody tr th {\n",
       "        vertical-align: top;\n",
       "    }\n",
       "\n",
       "    .dataframe thead th {\n",
       "        text-align: right;\n",
       "    }\n",
       "</style>\n",
       "<table border=\"1\" class=\"dataframe\">\n",
       "  <thead>\n",
       "    <tr style=\"text-align: right;\">\n",
       "      <th></th>\n",
       "      <th>variable</th>\n",
       "      <th>description</th>\n",
       "      <th>type</th>\n",
       "      <th>footnote</th>\n",
       "    </tr>\n",
       "  </thead>\n",
       "  <tbody>\n",
       "    <tr>\n",
       "      <th>33</th>\n",
       "      <td>foreign</td>\n",
       "      <td>Share of foreign CEOs</td>\n",
       "      <td>numeric</td>\n",
       "      <td>percent</td>\n",
       "    </tr>\n",
       "    <tr>\n",
       "      <th>14</th>\n",
       "      <td>inventories</td>\n",
       "      <td>inventories</td>\n",
       "      <td>numeric</td>\n",
       "      <td>(euros)</td>\n",
       "    </tr>\n",
       "    <tr>\n",
       "      <th>31</th>\n",
       "      <td>exit_year</td>\n",
       "      <td>Firm exit year</td>\n",
       "      <td>date</td>\n",
       "      <td>NaN</td>\n",
       "    </tr>\n",
       "    <tr>\n",
       "      <th>36</th>\n",
       "      <td>inoffice_days</td>\n",
       "      <td>Avg time CEOS are in office</td>\n",
       "      <td>numeric</td>\n",
       "      <td>NaN</td>\n",
       "    </tr>\n",
       "    <tr>\n",
       "      <th>25</th>\n",
       "      <td>wages</td>\n",
       "      <td>Wages (wage bill)</td>\n",
       "      <td>numeric</td>\n",
       "      <td>(euros)</td>\n",
       "    </tr>\n",
       "  </tbody>\n",
       "</table>\n",
       "</div>"
      ],
      "text/plain": [
       "         variable                  description     type footnote\n",
       "33        foreign        Share of foreign CEOs  numeric  percent\n",
       "14    inventories                  inventories  numeric  (euros)\n",
       "31      exit_year               Firm exit year     date      NaN\n",
       "36  inoffice_days  Avg time CEOS are in office  numeric      NaN\n",
       "25          wages            Wages (wage bill)  numeric  (euros)"
      ]
     },
     "execution_count": 7,
     "metadata": {},
     "output_type": "execute_result"
    }
   ],
   "source": [
    "dicionario_de_dados.sample(5)"
   ]
  },
  {
   "cell_type": "markdown",
   "id": "2d4a7f09",
   "metadata": {},
   "source": [
    "## Dados\n",
    "### Removendo colunas específicas:"
   ]
  },
  {
   "cell_type": "code",
   "execution_count": 8,
   "id": "99a70236",
   "metadata": {},
   "outputs": [
    {
     "data": {
      "text/plain": [
       "Index(['comp_id', 'begin', 'end', 'amort', 'curr_assets', 'curr_liab',\n",
       "       'extra_exp', 'extra_inc', 'extra_profit_loss', 'fixed_assets',\n",
       "       'inc_bef_tax', 'intang_assets', 'inventories', 'liq_assets',\n",
       "       'material_exp', 'personnel_exp', 'profit_loss_year', 'sales',\n",
       "       'share_eq', 'subscribed_cap', 'tang_assets', 'balsheet_flag',\n",
       "       'balsheet_length', 'balsheet_notfullyear', 'year', 'founded_year',\n",
       "       'exit_year', 'ceo_count', 'foreign', 'female', 'birth_year',\n",
       "       'inoffice_days', 'gender', 'origin', 'nace_main', 'ind2', 'ind',\n",
       "       'urban_m', 'region_m', 'founded_date', 'exit_date', 'labor_avg'],\n",
       "      dtype='object')"
      ]
     },
     "execution_count": 8,
     "metadata": {},
     "output_type": "execute_result"
    }
   ],
   "source": [
    "columns_to_remove = ['COGS', 'finished_prod', 'net_dom_sales', 'net_exp_sales', 'wages', 'D']\n",
    "\n",
    "data.drop(columns=columns_to_remove, inplace=True)\n",
    "\n",
    "data.columns"
   ]
  },
  {
   "cell_type": "markdown",
   "id": "501c7584",
   "metadata": {},
   "source": [
    "### Removendo dados do ano 2016:\n",
    "---\n",
    "\n",
    "Registros que começaram ou terminaram (ocorreram em) 2016 são removidos do conjunto."
   ]
  },
  {
   "cell_type": "code",
   "execution_count": 9,
   "id": "c024ebd4",
   "metadata": {},
   "outputs": [
    {
     "data": {
      "text/plain": [
       "array([2005, 2006, 2007, 2008, 2009, 2010, 2011, 2012, 2013, 2014, 2015],\n",
       "      dtype=int64)"
      ]
     },
     "execution_count": 9,
     "metadata": {},
     "output_type": "execute_result"
    }
   ],
   "source": [
    "data = data[data[\"year\"]!=2016]\n",
    "data[\"year\"].unique()"
   ]
  },
  {
   "cell_type": "markdown",
   "id": "db884397",
   "metadata": {},
   "source": [
    "### Missing data:\n",
    "---\n",
    "\n",
    "Vamos verificar dados faltando do banco de dados:"
   ]
  },
  {
   "cell_type": "code",
   "execution_count": 10,
   "id": "f8f86763",
   "metadata": {},
   "outputs": [
    {
     "data": {
      "text/plain": [
       "begin           object\n",
       "end             object\n",
       "founded_date    object\n",
       "exit_date       object\n",
       "dtype: object"
      ]
     },
     "execution_count": 10,
     "metadata": {},
     "output_type": "execute_result"
    }
   ],
   "source": [
    "colunas_data = [\"begin\", \"end\", \"founded_date\", \"exit_date\"]\n",
    "\n",
    "data.dtypes[colunas_data]"
   ]
  },
  {
   "cell_type": "code",
   "execution_count": 11,
   "id": "2847ecd3",
   "metadata": {},
   "outputs": [
    {
     "data": {
      "text/plain": [
       "begin           datetime64[ns]\n",
       "end             datetime64[ns]\n",
       "founded_date    datetime64[ns]\n",
       "exit_date       datetime64[ns]\n",
       "dtype: object"
      ]
     },
     "execution_count": 11,
     "metadata": {},
     "output_type": "execute_result"
    }
   ],
   "source": [
    "for column in colunas_data:\n",
    "    data[column] = pd.to_datetime(data[column], format=\"%Y-%m-%d\")\n",
    "\n",
    "data[colunas_data].dtypes"
   ]
  },
  {
   "cell_type": "code",
   "execution_count": 12,
   "id": "8c5c46b0",
   "metadata": {},
   "outputs": [],
   "source": [
    "def show_missing(df):\n",
    "    \"\"\"Return a Pandas dataframe describing the contents of a source dataframe including missing values.\"\"\"\n",
    "    \n",
    "    variables = []\n",
    "    dtypes = []\n",
    "    count = []\n",
    "    unique = []\n",
    "    missing = []\n",
    "    pc_missing = []\n",
    "    \n",
    "    for item in df.columns:\n",
    "        variables.append(item)\n",
    "        dtypes.append(df[item].dtype)\n",
    "        count.append(len(df[item]))\n",
    "        unique.append(len(df[item].unique()))\n",
    "        missing.append(df[item].isna().sum())\n",
    "        pc_missing.append(round((df[item].isna().sum() / len(df[item])) * 100, 2))\n",
    "\n",
    "    output = pd.DataFrame({\n",
    "        'variable': variables, \n",
    "        'dtype': dtypes,\n",
    "        'count': count,\n",
    "        'unique': unique,\n",
    "        'missing': missing, \n",
    "        'pc_missing': pc_missing\n",
    "    })    \n",
    "        \n",
    "    return output"
   ]
  },
  {
   "cell_type": "markdown",
   "id": "aab9a4c5",
   "metadata": {},
   "source": [
    "Verificando dados com maior falta de informações:"
   ]
  },
  {
   "cell_type": "code",
   "execution_count": 13,
   "id": "acc51f54",
   "metadata": {},
   "outputs": [
    {
     "data": {
      "text/html": [
       "<div>\n",
       "<style scoped>\n",
       "    .dataframe tbody tr th:only-of-type {\n",
       "        vertical-align: middle;\n",
       "    }\n",
       "\n",
       "    .dataframe tbody tr th {\n",
       "        vertical-align: top;\n",
       "    }\n",
       "\n",
       "    .dataframe thead th {\n",
       "        text-align: right;\n",
       "    }\n",
       "</style>\n",
       "<table border=\"1\" class=\"dataframe\">\n",
       "  <thead>\n",
       "    <tr style=\"text-align: right;\">\n",
       "      <th></th>\n",
       "      <th>variable</th>\n",
       "      <th>dtype</th>\n",
       "      <th>count</th>\n",
       "      <th>unique</th>\n",
       "      <th>missing</th>\n",
       "      <th>pc_missing</th>\n",
       "    </tr>\n",
       "  </thead>\n",
       "  <tbody>\n",
       "    <tr>\n",
       "      <th>0</th>\n",
       "      <td>exit_year</td>\n",
       "      <td>float64</td>\n",
       "      <td>278086</td>\n",
       "      <td>19</td>\n",
       "      <td>239228</td>\n",
       "      <td>86.03</td>\n",
       "    </tr>\n",
       "    <tr>\n",
       "      <th>1</th>\n",
       "      <td>exit_date</td>\n",
       "      <td>datetime64[ns]</td>\n",
       "      <td>278086</td>\n",
       "      <td>2603</td>\n",
       "      <td>221908</td>\n",
       "      <td>79.80</td>\n",
       "    </tr>\n",
       "    <tr>\n",
       "      <th>2</th>\n",
       "      <td>labor_avg</td>\n",
       "      <td>float64</td>\n",
       "      <td>278086</td>\n",
       "      <td>5556</td>\n",
       "      <td>146483</td>\n",
       "      <td>52.68</td>\n",
       "    </tr>\n",
       "    <tr>\n",
       "      <th>3</th>\n",
       "      <td>birth_year</td>\n",
       "      <td>float64</td>\n",
       "      <td>278086</td>\n",
       "      <td>264</td>\n",
       "      <td>110557</td>\n",
       "      <td>39.76</td>\n",
       "    </tr>\n",
       "    <tr>\n",
       "      <th>4</th>\n",
       "      <td>founded_year</td>\n",
       "      <td>float64</td>\n",
       "      <td>278086</td>\n",
       "      <td>39</td>\n",
       "      <td>56178</td>\n",
       "      <td>20.20</td>\n",
       "    </tr>\n",
       "    <tr>\n",
       "      <th>5</th>\n",
       "      <td>gender</td>\n",
       "      <td>object</td>\n",
       "      <td>278086</td>\n",
       "      <td>4</td>\n",
       "      <td>56148</td>\n",
       "      <td>20.19</td>\n",
       "    </tr>\n",
       "    <tr>\n",
       "      <th>6</th>\n",
       "      <td>origin</td>\n",
       "      <td>object</td>\n",
       "      <td>278086</td>\n",
       "      <td>4</td>\n",
       "      <td>56148</td>\n",
       "      <td>20.19</td>\n",
       "    </tr>\n",
       "    <tr>\n",
       "      <th>7</th>\n",
       "      <td>female</td>\n",
       "      <td>float64</td>\n",
       "      <td>278086</td>\n",
       "      <td>15</td>\n",
       "      <td>56148</td>\n",
       "      <td>20.19</td>\n",
       "    </tr>\n",
       "    <tr>\n",
       "      <th>8</th>\n",
       "      <td>foreign</td>\n",
       "      <td>float64</td>\n",
       "      <td>278086</td>\n",
       "      <td>16</td>\n",
       "      <td>56148</td>\n",
       "      <td>20.19</td>\n",
       "    </tr>\n",
       "    <tr>\n",
       "      <th>9</th>\n",
       "      <td>ceo_count</td>\n",
       "      <td>float64</td>\n",
       "      <td>278086</td>\n",
       "      <td>15</td>\n",
       "      <td>56148</td>\n",
       "      <td>20.19</td>\n",
       "    </tr>\n",
       "    <tr>\n",
       "      <th>10</th>\n",
       "      <td>inoffice_days</td>\n",
       "      <td>float64</td>\n",
       "      <td>278086</td>\n",
       "      <td>11109</td>\n",
       "      <td>56148</td>\n",
       "      <td>20.19</td>\n",
       "    </tr>\n",
       "    <tr>\n",
       "      <th>11</th>\n",
       "      <td>ind</td>\n",
       "      <td>float64</td>\n",
       "      <td>278086</td>\n",
       "      <td>4</td>\n",
       "      <td>9472</td>\n",
       "      <td>3.41</td>\n",
       "    </tr>\n",
       "    <tr>\n",
       "      <th>12</th>\n",
       "      <td>extra_exp</td>\n",
       "      <td>float64</td>\n",
       "      <td>278086</td>\n",
       "      <td>4256</td>\n",
       "      <td>8786</td>\n",
       "      <td>3.16</td>\n",
       "    </tr>\n",
       "    <tr>\n",
       "      <th>13</th>\n",
       "      <td>extra_inc</td>\n",
       "      <td>float64</td>\n",
       "      <td>278086</td>\n",
       "      <td>8176</td>\n",
       "      <td>8786</td>\n",
       "      <td>3.16</td>\n",
       "    </tr>\n",
       "    <tr>\n",
       "      <th>14</th>\n",
       "      <td>material_exp</td>\n",
       "      <td>float64</td>\n",
       "      <td>278086</td>\n",
       "      <td>73290</td>\n",
       "      <td>8016</td>\n",
       "      <td>2.88</td>\n",
       "    </tr>\n",
       "    <tr>\n",
       "      <th>15</th>\n",
       "      <td>personnel_exp</td>\n",
       "      <td>float64</td>\n",
       "      <td>278086</td>\n",
       "      <td>42888</td>\n",
       "      <td>8016</td>\n",
       "      <td>2.88</td>\n",
       "    </tr>\n",
       "    <tr>\n",
       "      <th>16</th>\n",
       "      <td>amort</td>\n",
       "      <td>float64</td>\n",
       "      <td>278086</td>\n",
       "      <td>20418</td>\n",
       "      <td>8016</td>\n",
       "      <td>2.88</td>\n",
       "    </tr>\n",
       "    <tr>\n",
       "      <th>17</th>\n",
       "      <td>extra_profit_loss</td>\n",
       "      <td>float64</td>\n",
       "      <td>278086</td>\n",
       "      <td>11098</td>\n",
       "      <td>7460</td>\n",
       "      <td>2.68</td>\n",
       "    </tr>\n",
       "    <tr>\n",
       "      <th>18</th>\n",
       "      <td>sales</td>\n",
       "      <td>float64</td>\n",
       "      <td>278086</td>\n",
       "      <td>83777</td>\n",
       "      <td>7437</td>\n",
       "      <td>2.67</td>\n",
       "    </tr>\n",
       "    <tr>\n",
       "      <th>19</th>\n",
       "      <td>inc_bef_tax</td>\n",
       "      <td>float64</td>\n",
       "      <td>278086</td>\n",
       "      <td>42893</td>\n",
       "      <td>7437</td>\n",
       "      <td>2.67</td>\n",
       "    </tr>\n",
       "    <tr>\n",
       "      <th>20</th>\n",
       "      <td>tang_assets</td>\n",
       "      <td>float64</td>\n",
       "      <td>278086</td>\n",
       "      <td>55730</td>\n",
       "      <td>1470</td>\n",
       "      <td>0.53</td>\n",
       "    </tr>\n",
       "    <tr>\n",
       "      <th>21</th>\n",
       "      <td>ind2</td>\n",
       "      <td>float64</td>\n",
       "      <td>278086</td>\n",
       "      <td>69</td>\n",
       "      <td>1038</td>\n",
       "      <td>0.37</td>\n",
       "    </tr>\n",
       "    <tr>\n",
       "      <th>22</th>\n",
       "      <td>nace_main</td>\n",
       "      <td>float64</td>\n",
       "      <td>278086</td>\n",
       "      <td>301</td>\n",
       "      <td>1038</td>\n",
       "      <td>0.37</td>\n",
       "    </tr>\n",
       "    <tr>\n",
       "      <th>23</th>\n",
       "      <td>region_m</td>\n",
       "      <td>object</td>\n",
       "      <td>278086</td>\n",
       "      <td>4</td>\n",
       "      <td>800</td>\n",
       "      <td>0.29</td>\n",
       "    </tr>\n",
       "    <tr>\n",
       "      <th>24</th>\n",
       "      <td>subscribed_cap</td>\n",
       "      <td>float64</td>\n",
       "      <td>278086</td>\n",
       "      <td>3644</td>\n",
       "      <td>131</td>\n",
       "      <td>0.05</td>\n",
       "    </tr>\n",
       "    <tr>\n",
       "      <th>25</th>\n",
       "      <td>share_eq</td>\n",
       "      <td>float64</td>\n",
       "      <td>278086</td>\n",
       "      <td>74907</td>\n",
       "      <td>131</td>\n",
       "      <td>0.05</td>\n",
       "    </tr>\n",
       "    <tr>\n",
       "      <th>26</th>\n",
       "      <td>profit_loss_year</td>\n",
       "      <td>float64</td>\n",
       "      <td>278086</td>\n",
       "      <td>37936</td>\n",
       "      <td>141</td>\n",
       "      <td>0.05</td>\n",
       "    </tr>\n",
       "    <tr>\n",
       "      <th>27</th>\n",
       "      <td>liq_assets</td>\n",
       "      <td>float64</td>\n",
       "      <td>278086</td>\n",
       "      <td>30166</td>\n",
       "      <td>131</td>\n",
       "      <td>0.05</td>\n",
       "    </tr>\n",
       "    <tr>\n",
       "      <th>28</th>\n",
       "      <td>inventories</td>\n",
       "      <td>float64</td>\n",
       "      <td>278086</td>\n",
       "      <td>26785</td>\n",
       "      <td>131</td>\n",
       "      <td>0.05</td>\n",
       "    </tr>\n",
       "    <tr>\n",
       "      <th>29</th>\n",
       "      <td>intang_assets</td>\n",
       "      <td>float64</td>\n",
       "      <td>278086</td>\n",
       "      <td>9473</td>\n",
       "      <td>140</td>\n",
       "      <td>0.05</td>\n",
       "    </tr>\n",
       "    <tr>\n",
       "      <th>30</th>\n",
       "      <td>fixed_assets</td>\n",
       "      <td>float64</td>\n",
       "      <td>278086</td>\n",
       "      <td>57344</td>\n",
       "      <td>131</td>\n",
       "      <td>0.05</td>\n",
       "    </tr>\n",
       "    <tr>\n",
       "      <th>31</th>\n",
       "      <td>curr_liab</td>\n",
       "      <td>float64</td>\n",
       "      <td>278086</td>\n",
       "      <td>54771</td>\n",
       "      <td>131</td>\n",
       "      <td>0.05</td>\n",
       "    </tr>\n",
       "    <tr>\n",
       "      <th>32</th>\n",
       "      <td>curr_assets</td>\n",
       "      <td>float64</td>\n",
       "      <td>278086</td>\n",
       "      <td>54020</td>\n",
       "      <td>131</td>\n",
       "      <td>0.05</td>\n",
       "    </tr>\n",
       "    <tr>\n",
       "      <th>33</th>\n",
       "      <td>founded_date</td>\n",
       "      <td>datetime64[ns]</td>\n",
       "      <td>278086</td>\n",
       "      <td>6363</td>\n",
       "      <td>51</td>\n",
       "      <td>0.02</td>\n",
       "    </tr>\n",
       "  </tbody>\n",
       "</table>\n",
       "</div>"
      ],
      "text/plain": [
       "             variable           dtype   count  unique  missing  pc_missing\n",
       "0           exit_year         float64  278086      19   239228       86.03\n",
       "1           exit_date  datetime64[ns]  278086    2603   221908       79.80\n",
       "2           labor_avg         float64  278086    5556   146483       52.68\n",
       "3          birth_year         float64  278086     264   110557       39.76\n",
       "4        founded_year         float64  278086      39    56178       20.20\n",
       "5              gender          object  278086       4    56148       20.19\n",
       "6              origin          object  278086       4    56148       20.19\n",
       "7              female         float64  278086      15    56148       20.19\n",
       "8             foreign         float64  278086      16    56148       20.19\n",
       "9           ceo_count         float64  278086      15    56148       20.19\n",
       "10      inoffice_days         float64  278086   11109    56148       20.19\n",
       "11                ind         float64  278086       4     9472        3.41\n",
       "12          extra_exp         float64  278086    4256     8786        3.16\n",
       "13          extra_inc         float64  278086    8176     8786        3.16\n",
       "14       material_exp         float64  278086   73290     8016        2.88\n",
       "15      personnel_exp         float64  278086   42888     8016        2.88\n",
       "16              amort         float64  278086   20418     8016        2.88\n",
       "17  extra_profit_loss         float64  278086   11098     7460        2.68\n",
       "18              sales         float64  278086   83777     7437        2.67\n",
       "19        inc_bef_tax         float64  278086   42893     7437        2.67\n",
       "20        tang_assets         float64  278086   55730     1470        0.53\n",
       "21               ind2         float64  278086      69     1038        0.37\n",
       "22          nace_main         float64  278086     301     1038        0.37\n",
       "23           region_m          object  278086       4      800        0.29\n",
       "24     subscribed_cap         float64  278086    3644      131        0.05\n",
       "25           share_eq         float64  278086   74907      131        0.05\n",
       "26   profit_loss_year         float64  278086   37936      141        0.05\n",
       "27         liq_assets         float64  278086   30166      131        0.05\n",
       "28        inventories         float64  278086   26785      131        0.05\n",
       "29      intang_assets         float64  278086    9473      140        0.05\n",
       "30       fixed_assets         float64  278086   57344      131        0.05\n",
       "31          curr_liab         float64  278086   54771      131        0.05\n",
       "32        curr_assets         float64  278086   54020      131        0.05\n",
       "33       founded_date  datetime64[ns]  278086    6363       51        0.02"
      ]
     },
     "execution_count": 13,
     "metadata": {},
     "output_type": "execute_result"
    }
   ],
   "source": [
    "missing_data = show_missing(data).sort_values(\"pc_missing\", ascending=False, ignore_index = True)\n",
    "\n",
    "index_full_data = list(missing_data[missing_data[\"missing\"]==0].index)\n",
    "\n",
    "missing_data.drop(labels=index_full_data, axis=\"index\", inplace=True)\n",
    "\n",
    "missing_data"
   ]
  },
  {
   "cell_type": "markdown",
   "id": "2b4ebc62",
   "metadata": {},
   "source": [
    "Vamos iniciar tratando os dados que estejam com menos de 5% de dados faltando.\n",
    "\n",
    "Podemos considerar que pela quantidade de dados estes casos são insignificantes no escopo total então vamos apenas remover estes.\n",
    "\n",
    "(apenas para as colunas com baixa falta de dados \">5%\")"
   ]
  },
  {
   "cell_type": "code",
   "execution_count": 14,
   "id": "98dd4700",
   "metadata": {},
   "outputs": [],
   "source": [
    "removable_na_columns = list(missing_data[\"variable\"][missing_data[\"pc_missing\"]<5.0])\n",
    "\n",
    "data.dropna(subset=removable_na_columns, ignore_index=True, inplace=True)"
   ]
  },
  {
   "cell_type": "code",
   "execution_count": 15,
   "id": "abb1e2f1",
   "metadata": {},
   "outputs": [],
   "source": [
    "missing_val_columns = missing_data[\"variable\"][missing_data[\"pc_missing\"]>0]"
   ]
  },
  {
   "cell_type": "code",
   "execution_count": 16,
   "id": "2d3ca687",
   "metadata": {},
   "outputs": [
    {
     "data": {
      "text/plain": [
       "<Axes: >"
      ]
     },
     "execution_count": 16,
     "metadata": {},
     "output_type": "execute_result"
    },
    {
     "data": {
      "image/png": "[encoded data removed]",
      "text/plain": [
       "<Figure size 1600x400 with 3 Axes>"
      ]
     },
     "metadata": {},
     "output_type": "display_data"
    }
   ],
   "source": [
    "msno.bar(data[missing_val_columns], figsize=(16, 4))"
   ]
  },
  {
   "cell_type": "markdown",
   "id": "5731c467",
   "metadata": {},
   "source": [
    "Dados destas colunas precisam estar em formato de datetime para serem operados corretamente, então vamos converte-los."
   ]
  },
  {
   "cell_type": "code",
   "execution_count": 17,
   "id": "c8d44845",
   "metadata": {},
   "outputs": [
    {
     "data": {
      "text/html": [
       "<div>\n",
       "<style scoped>\n",
       "    .dataframe tbody tr th:only-of-type {\n",
       "        vertical-align: middle;\n",
       "    }\n",
       "\n",
       "    .dataframe tbody tr th {\n",
       "        vertical-align: top;\n",
       "    }\n",
       "\n",
       "    .dataframe thead th {\n",
       "        text-align: right;\n",
       "    }\n",
       "</style>\n",
       "<table border=\"1\" class=\"dataframe\">\n",
       "  <thead>\n",
       "    <tr style=\"text-align: right;\">\n",
       "      <th></th>\n",
       "      <th>variable</th>\n",
       "      <th>dtype</th>\n",
       "      <th>count</th>\n",
       "      <th>unique</th>\n",
       "      <th>missing</th>\n",
       "      <th>pc_missing</th>\n",
       "    </tr>\n",
       "  </thead>\n",
       "  <tbody>\n",
       "    <tr>\n",
       "      <th>0</th>\n",
       "      <td>exit_year</td>\n",
       "      <td>float64</td>\n",
       "      <td>258729</td>\n",
       "      <td>19</td>\n",
       "      <td>223777</td>\n",
       "      <td>86.49</td>\n",
       "    </tr>\n",
       "    <tr>\n",
       "      <th>1</th>\n",
       "      <td>exit_date</td>\n",
       "      <td>datetime64[ns]</td>\n",
       "      <td>258729</td>\n",
       "      <td>2473</td>\n",
       "      <td>208993</td>\n",
       "      <td>80.78</td>\n",
       "    </tr>\n",
       "    <tr>\n",
       "      <th>2</th>\n",
       "      <td>labor_avg</td>\n",
       "      <td>float64</td>\n",
       "      <td>258729</td>\n",
       "      <td>5385</td>\n",
       "      <td>132555</td>\n",
       "      <td>51.23</td>\n",
       "    </tr>\n",
       "    <tr>\n",
       "      <th>3</th>\n",
       "      <td>birth_year</td>\n",
       "      <td>float64</td>\n",
       "      <td>258729</td>\n",
       "      <td>261</td>\n",
       "      <td>100051</td>\n",
       "      <td>38.67</td>\n",
       "    </tr>\n",
       "    <tr>\n",
       "      <th>4</th>\n",
       "      <td>inoffice_days</td>\n",
       "      <td>float64</td>\n",
       "      <td>258729</td>\n",
       "      <td>10876</td>\n",
       "      <td>50569</td>\n",
       "      <td>19.55</td>\n",
       "    </tr>\n",
       "    <tr>\n",
       "      <th>5</th>\n",
       "      <td>founded_year</td>\n",
       "      <td>float64</td>\n",
       "      <td>258729</td>\n",
       "      <td>39</td>\n",
       "      <td>50569</td>\n",
       "      <td>19.55</td>\n",
       "    </tr>\n",
       "    <tr>\n",
       "      <th>6</th>\n",
       "      <td>ceo_count</td>\n",
       "      <td>float64</td>\n",
       "      <td>258729</td>\n",
       "      <td>15</td>\n",
       "      <td>50569</td>\n",
       "      <td>19.55</td>\n",
       "    </tr>\n",
       "    <tr>\n",
       "      <th>7</th>\n",
       "      <td>foreign</td>\n",
       "      <td>float64</td>\n",
       "      <td>258729</td>\n",
       "      <td>16</td>\n",
       "      <td>50569</td>\n",
       "      <td>19.55</td>\n",
       "    </tr>\n",
       "    <tr>\n",
       "      <th>8</th>\n",
       "      <td>female</td>\n",
       "      <td>float64</td>\n",
       "      <td>258729</td>\n",
       "      <td>15</td>\n",
       "      <td>50569</td>\n",
       "      <td>19.55</td>\n",
       "    </tr>\n",
       "    <tr>\n",
       "      <th>9</th>\n",
       "      <td>gender</td>\n",
       "      <td>object</td>\n",
       "      <td>258729</td>\n",
       "      <td>4</td>\n",
       "      <td>50569</td>\n",
       "      <td>19.55</td>\n",
       "    </tr>\n",
       "    <tr>\n",
       "      <th>10</th>\n",
       "      <td>origin</td>\n",
       "      <td>object</td>\n",
       "      <td>258729</td>\n",
       "      <td>4</td>\n",
       "      <td>50569</td>\n",
       "      <td>19.55</td>\n",
       "    </tr>\n",
       "  </tbody>\n",
       "</table>\n",
       "</div>"
      ],
      "text/plain": [
       "         variable           dtype   count  unique  missing  pc_missing\n",
       "0       exit_year         float64  258729      19   223777       86.49\n",
       "1       exit_date  datetime64[ns]  258729    2473   208993       80.78\n",
       "2       labor_avg         float64  258729    5385   132555       51.23\n",
       "3      birth_year         float64  258729     261   100051       38.67\n",
       "4   inoffice_days         float64  258729   10876    50569       19.55\n",
       "5    founded_year         float64  258729      39    50569       19.55\n",
       "6       ceo_count         float64  258729      15    50569       19.55\n",
       "7         foreign         float64  258729      16    50569       19.55\n",
       "8          female         float64  258729      15    50569       19.55\n",
       "9          gender          object  258729       4    50569       19.55\n",
       "10         origin          object  258729       4    50569       19.55"
      ]
     },
     "execution_count": 17,
     "metadata": {},
     "output_type": "execute_result"
    }
   ],
   "source": [
    "missing_data_2 = show_missing(data).sort_values(\"pc_missing\", ascending=False, ignore_index = True)\n",
    "\n",
    "index_full_data_2 = list(missing_data_2[missing_data_2[\"missing\"]==0].index)\n",
    "\n",
    "missing_data_2.drop(labels=index_full_data_2, axis=\"index\", inplace=True)\n",
    "\n",
    "missing_data_2"
   ]
  },
  {
   "cell_type": "markdown",
   "id": "503d73a2",
   "metadata": {},
   "source": [
    "Removendo Registros do ano de 2016:"
   ]
  },
  {
   "cell_type": "code",
   "execution_count": 18,
   "id": "d79f15a5",
   "metadata": {},
   "outputs": [
    {
     "ename": "SyntaxError",
     "evalue": "invalid syntax (1677005153.py, line 1)",
     "output_type": "error",
     "traceback": [
      "\u001b[1;36m  Cell \u001b[1;32mIn[18], line 1\u001b[1;36m\u001b[0m\n\u001b[1;33m    Agora vamos tratar os dados que estão com faltas consideráveis e se faz sentido a falta de dados.\u001b[0m\n\u001b[1;37m          ^\u001b[0m\n\u001b[1;31mSyntaxError\u001b[0m\u001b[1;31m:\u001b[0m invalid syntax\n"
     ]
    }
   ],
   "source": [
    "Agora vamos tratar os dados que estão com faltas consideráveis e se faz sentido a falta de dados."
   ]
  },
  {
   "cell_type": "markdown",
   "id": "99abaf0a",
   "metadata": {},
   "source": [
    "### Criando coluna para Variável Dependente:\n",
    "---\n",
    "\n",
    "- Vamos operar com o conceito de \"atividade\", empresas que não tiveram atividade por mais de 2 anos são consideradas \"inativas\".\n",
    "\n",
    "Obs.: ativa = 0, inativa = 1"
   ]
  },
  {
   "cell_type": "code",
   "execution_count": null,
   "id": "b4a3f70f",
   "metadata": {},
   "outputs": [],
   "source": [
    "# Sort the DataFrame by company and year\n",
    "data.sort_values(by=['comp_id', 'year'], inplace=True)\n",
    "\n",
    "# Create shifted columns to check sales in the following 2 years\n",
    "conditions_x1 = [((data['comp_id'] == data['comp_id'].shift(-1)) &\n",
    "                  (data['year'] == data['year'].shift(-1) - 1)),\n",
    "\n",
    "                 ((data['comp_id'] != data['comp_id'].shift(-1)) |\n",
    "                  data['year'] != data['year'].shift(-1))]\n",
    "\n",
    "values_x1 = [data['sales'].shift(-1),\n",
    "             np.nan]\n",
    "\n",
    "data['sales_x1'] = np.select(conditions_x1, values_x1)\n",
    "\n",
    "\n",
    "conditions_x2 = [\n",
    "    ((data['comp_id'] == data['comp_id'].shift(-1)) &\n",
    "     (data['year'] == data['year'].shift(-1) - 2)),\n",
    "\n",
    "    ((data['comp_id'] == data['comp_id'].shift(-2)) &\n",
    "     (data['year'] == data['year'].shift(-2) - 2)),\n",
    "\n",
    "    True\n",
    "]\n",
    "\n",
    "values_x2 = [data['sales'].shift(-1),\n",
    "             data['sales'].shift(-2),\n",
    "             np.nan]\n",
    "\n",
    "data['sales_x2'] = np.select(conditions_x2, values_x2)\n",
    "\n",
    "\n",
    "# Create a condition to identify companies that ceased to operate \n",
    "# (sem vendas por mais de 2 anos)\n",
    "condition = (data['sales_x1'] == 0) & (data['sales_x2'] == 0)\n",
    "\n",
    "# Create a new 'dependente' column with 1 for ceased companies and 0 otherwise\n",
    "data['dependente'] = condition.astype(int)\n"
   ]
  },
  {
   "cell_type": "markdown",
   "id": "80f8dd79",
   "metadata": {},
   "source": [
    "Vamos conferir os valores da variavel dependente para as duas primeiras empresas do dataframe:"
   ]
  },
  {
   "cell_type": "code",
   "execution_count": null,
   "id": "120e1032",
   "metadata": {},
   "outputs": [],
   "source": [
    "# lista de colunas para avaliação:\n",
    "check_list=[\"comp_id\", \"year\", \"sales\", \"sales_x1\", \"sales_x2\", \"dependente\"]\n",
    "\n",
    "data[check_list].head(18)"
   ]
  },
  {
   "cell_type": "code",
   "execution_count": null,
   "id": "6a7b10f0",
   "metadata": {},
   "outputs": [
    {
     "data": {
      "text/html": [
       "<div>\n",
       "<style scoped>\n",
       "    .dataframe tbody tr th:only-of-type {\n",
       "        vertical-align: middle;\n",
       "    }\n",
       "\n",
       "    .dataframe tbody tr th {\n",
       "        vertical-align: top;\n",
       "    }\n",
       "\n",
       "    .dataframe thead th {\n",
       "        text-align: right;\n",
       "    }\n",
       "</style>\n",
       "<table border=\"1\" class=\"dataframe\">\n",
       "  <thead>\n",
       "    <tr style=\"text-align: right;\">\n",
       "      <th></th>\n",
       "      <th>comp_id</th>\n",
       "      <th>year</th>\n",
       "      <th>sales</th>\n",
       "      <th>sales_x1</th>\n",
       "      <th>sales_x2</th>\n",
       "      <th>dependente</th>\n",
       "    </tr>\n",
       "  </thead>\n",
       "  <tbody>\n",
       "    <tr>\n",
       "      <th>count</th>\n",
       "      <td>2.587290e+05</td>\n",
       "      <td>258729.000000</td>\n",
       "      <td>2.587290e+05</td>\n",
       "      <td>2.587280e+05</td>\n",
       "      <td>2.587270e+05</td>\n",
       "      <td>258729.000000</td>\n",
       "    </tr>\n",
       "    <tr>\n",
       "      <th>mean</th>\n",
       "      <td>1.540156e+11</td>\n",
       "      <td>2010.448319</td>\n",
       "      <td>4.731183e+05</td>\n",
       "      <td>4.731199e+05</td>\n",
       "      <td>4.731215e+05</td>\n",
       "      <td>0.091714</td>\n",
       "    </tr>\n",
       "    <tr>\n",
       "      <th>std</th>\n",
       "      <td>1.382643e+11</td>\n",
       "      <td>3.066244</td>\n",
       "      <td>3.775571e+06</td>\n",
       "      <td>3.775578e+06</td>\n",
       "      <td>3.775585e+06</td>\n",
       "      <td>0.288622</td>\n",
       "    </tr>\n",
       "    <tr>\n",
       "      <th>min</th>\n",
       "      <td>1.001034e+06</td>\n",
       "      <td>2005.000000</td>\n",
       "      <td>-1.472559e+07</td>\n",
       "      <td>-1.472559e+07</td>\n",
       "      <td>-1.472559e+07</td>\n",
       "      <td>0.000000</td>\n",
       "    </tr>\n",
       "    <tr>\n",
       "      <th>25%</th>\n",
       "      <td>2.857290e+10</td>\n",
       "      <td>2008.000000</td>\n",
       "      <td>4.744444e+03</td>\n",
       "      <td>4.744444e+03</td>\n",
       "      <td>4.744444e+03</td>\n",
       "      <td>0.000000</td>\n",
       "    </tr>\n",
       "    <tr>\n",
       "      <th>50%</th>\n",
       "      <td>1.153078e+11</td>\n",
       "      <td>2011.000000</td>\n",
       "      <td>3.042222e+04</td>\n",
       "      <td>3.042222e+04</td>\n",
       "      <td>3.042222e+04</td>\n",
       "      <td>0.000000</td>\n",
       "    </tr>\n",
       "    <tr>\n",
       "      <th>75%</th>\n",
       "      <td>2.593265e+11</td>\n",
       "      <td>2013.000000</td>\n",
       "      <td>1.106704e+05</td>\n",
       "      <td>1.106704e+05</td>\n",
       "      <td>1.106704e+05</td>\n",
       "      <td>0.000000</td>\n",
       "    </tr>\n",
       "    <tr>\n",
       "      <th>max</th>\n",
       "      <td>4.641209e+11</td>\n",
       "      <td>2015.000000</td>\n",
       "      <td>1.110294e+08</td>\n",
       "      <td>1.110294e+08</td>\n",
       "      <td>1.110294e+08</td>\n",
       "      <td>1.000000</td>\n",
       "    </tr>\n",
       "  </tbody>\n",
       "</table>\n",
       "</div>"
      ],
      "text/plain": [
       "            comp_id           year         sales      sales_x1      sales_x2  \\\n",
       "count  2.587290e+05  258729.000000  2.587290e+05  2.587280e+05  2.587270e+05   \n",
       "mean   1.540156e+11    2010.448319  4.731183e+05  4.731199e+05  4.731215e+05   \n",
       "std    1.382643e+11       3.066244  3.775571e+06  3.775578e+06  3.775585e+06   \n",
       "min    1.001034e+06    2005.000000 -1.472559e+07 -1.472559e+07 -1.472559e+07   \n",
       "25%    2.857290e+10    2008.000000  4.744444e+03  4.744444e+03  4.744444e+03   \n",
       "50%    1.153078e+11    2011.000000  3.042222e+04  3.042222e+04  3.042222e+04   \n",
       "75%    2.593265e+11    2013.000000  1.106704e+05  1.106704e+05  1.106704e+05   \n",
       "max    4.641209e+11    2015.000000  1.110294e+08  1.110294e+08  1.110294e+08   \n",
       "\n",
       "          dependente  \n",
       "count  258729.000000  \n",
       "mean        0.091714  \n",
       "std         0.288622  \n",
       "min         0.000000  \n",
       "25%         0.000000  \n",
       "50%         0.000000  \n",
       "75%         0.000000  \n",
       "max         1.000000  "
      ]
     },
     "execution_count": 117,
     "metadata": {},
     "output_type": "execute_result"
    }
   ],
   "source": [
    "data[check_list].describe()"
   ]
  },
  {
   "cell_type": "markdown",
   "id": "e93fa20a",
   "metadata": {},
   "source": [
    "Vemos que temos dados de venda com erros, onde há valores negativos para vendas, vamos tratar estes dados substituindo valores negativos por nulos (valor = 0)"
   ]
  },
  {
   "cell_type": "code",
   "execution_count": null,
   "id": "121e585a",
   "metadata": {},
   "outputs": [],
   "source": [
    "# Remodelando os dados de vendas para corrigir os erros:\n",
    "\n",
    "for x in [\"sales\", \"sales_x1\", \"sales_x2\"]:\n",
    "    data[x] = np.where(data[x]<0, 0, data[x])\n",
    "\n",
    "data['dependente'] = condition.astype(int)"
   ]
  },
  {
   "cell_type": "code",
   "execution_count": null,
   "id": "893d19bf",
   "metadata": {},
   "outputs": [
    {
     "data": {
      "text/html": [
       "<div>\n",
       "<style scoped>\n",
       "    .dataframe tbody tr th:only-of-type {\n",
       "        vertical-align: middle;\n",
       "    }\n",
       "\n",
       "    .dataframe tbody tr th {\n",
       "        vertical-align: top;\n",
       "    }\n",
       "\n",
       "    .dataframe thead th {\n",
       "        text-align: right;\n",
       "    }\n",
       "</style>\n",
       "<table border=\"1\" class=\"dataframe\">\n",
       "  <thead>\n",
       "    <tr style=\"text-align: right;\">\n",
       "      <th></th>\n",
       "      <th>comp_id</th>\n",
       "      <th>year</th>\n",
       "      <th>sales</th>\n",
       "      <th>sales_x1</th>\n",
       "      <th>sales_x2</th>\n",
       "      <th>dependente</th>\n",
       "    </tr>\n",
       "  </thead>\n",
       "  <tbody>\n",
       "    <tr>\n",
       "      <th>count</th>\n",
       "      <td>2.587290e+05</td>\n",
       "      <td>258729.000000</td>\n",
       "      <td>2.587290e+05</td>\n",
       "      <td>2.587280e+05</td>\n",
       "      <td>2.587270e+05</td>\n",
       "      <td>258729.000000</td>\n",
       "    </tr>\n",
       "    <tr>\n",
       "      <th>mean</th>\n",
       "      <td>1.540156e+11</td>\n",
       "      <td>2010.448319</td>\n",
       "      <td>4.731984e+05</td>\n",
       "      <td>4.731999e+05</td>\n",
       "      <td>4.732015e+05</td>\n",
       "      <td>0.091714</td>\n",
       "    </tr>\n",
       "    <tr>\n",
       "      <th>std</th>\n",
       "      <td>1.382643e+11</td>\n",
       "      <td>3.066244</td>\n",
       "      <td>3.775438e+06</td>\n",
       "      <td>3.775446e+06</td>\n",
       "      <td>3.775453e+06</td>\n",
       "      <td>0.288622</td>\n",
       "    </tr>\n",
       "    <tr>\n",
       "      <th>min</th>\n",
       "      <td>1.001034e+06</td>\n",
       "      <td>2005.000000</td>\n",
       "      <td>0.000000e+00</td>\n",
       "      <td>0.000000e+00</td>\n",
       "      <td>0.000000e+00</td>\n",
       "      <td>0.000000</td>\n",
       "    </tr>\n",
       "    <tr>\n",
       "      <th>25%</th>\n",
       "      <td>2.857290e+10</td>\n",
       "      <td>2008.000000</td>\n",
       "      <td>4.744444e+03</td>\n",
       "      <td>4.744444e+03</td>\n",
       "      <td>4.744444e+03</td>\n",
       "      <td>0.000000</td>\n",
       "    </tr>\n",
       "    <tr>\n",
       "      <th>50%</th>\n",
       "      <td>1.153078e+11</td>\n",
       "      <td>2011.000000</td>\n",
       "      <td>3.042222e+04</td>\n",
       "      <td>3.042222e+04</td>\n",
       "      <td>3.042222e+04</td>\n",
       "      <td>0.000000</td>\n",
       "    </tr>\n",
       "    <tr>\n",
       "      <th>75%</th>\n",
       "      <td>2.593265e+11</td>\n",
       "      <td>2013.000000</td>\n",
       "      <td>1.106704e+05</td>\n",
       "      <td>1.106704e+05</td>\n",
       "      <td>1.106704e+05</td>\n",
       "      <td>0.000000</td>\n",
       "    </tr>\n",
       "    <tr>\n",
       "      <th>max</th>\n",
       "      <td>4.641209e+11</td>\n",
       "      <td>2015.000000</td>\n",
       "      <td>1.110294e+08</td>\n",
       "      <td>1.110294e+08</td>\n",
       "      <td>1.110294e+08</td>\n",
       "      <td>1.000000</td>\n",
       "    </tr>\n",
       "  </tbody>\n",
       "</table>\n",
       "</div>"
      ],
      "text/plain": [
       "            comp_id           year         sales      sales_x1      sales_x2  \\\n",
       "count  2.587290e+05  258729.000000  2.587290e+05  2.587280e+05  2.587270e+05   \n",
       "mean   1.540156e+11    2010.448319  4.731984e+05  4.731999e+05  4.732015e+05   \n",
       "std    1.382643e+11       3.066244  3.775438e+06  3.775446e+06  3.775453e+06   \n",
       "min    1.001034e+06    2005.000000  0.000000e+00  0.000000e+00  0.000000e+00   \n",
       "25%    2.857290e+10    2008.000000  4.744444e+03  4.744444e+03  4.744444e+03   \n",
       "50%    1.153078e+11    2011.000000  3.042222e+04  3.042222e+04  3.042222e+04   \n",
       "75%    2.593265e+11    2013.000000  1.106704e+05  1.106704e+05  1.106704e+05   \n",
       "max    4.641209e+11    2015.000000  1.110294e+08  1.110294e+08  1.110294e+08   \n",
       "\n",
       "          dependente  \n",
       "count  258729.000000  \n",
       "mean        0.091714  \n",
       "std         0.288622  \n",
       "min         0.000000  \n",
       "25%         0.000000  \n",
       "50%         0.000000  \n",
       "75%         0.000000  \n",
       "max         1.000000  "
      ]
     },
     "execution_count": 119,
     "metadata": {},
     "output_type": "execute_result"
    }
   ],
   "source": [
    "data[check_list].describe()"
   ]
  },
  {
   "cell_type": "markdown",
   "id": "27e7b99a",
   "metadata": {},
   "source": [
    "Corrigimos os valores de vendas negativas, e assim também de dependentes que pudessem estar sendo afetados.\n",
    "\n",
    "Vamos agora:\n",
    " \n",
    "- tratar por fim os casos em que não há informações de venda para um próximo ano (por não haver um próximo ano;\n",
    "\n",
    "- criar uma coluna de vendas em \"Log\" para tratar a assimetria dos dados."
   ]
  },
  {
   "cell_type": "code",
   "execution_count": null,
   "id": "b02dce76",
   "metadata": {},
   "outputs": [],
   "source": []
  },
  {
   "cell_type": "markdown",
   "id": "f1daf1bd",
   "metadata": {},
   "source": [
    "Vamos averiguar agora os anos em que as empresas tiveram atividade e inatividade:"
   ]
  },
  {
   "cell_type": "code",
   "execution_count": null,
   "id": "ccde17eb",
   "metadata": {},
   "outputs": [],
   "source": [
    "data_grouped = data.groupby('comp_id')\n",
    "\n",
    "#Contando anos de acompanhamento\n",
    "comp_years = data_grouped['year'].count()\n",
    "\n",
    "#Contando anos de \"atividade\"\n",
    "active_years = data_grouped.apply(lambda group: (group['sales'] > 0).sum())\n",
    "\n",
    "#contando anos de \"inatividade\"\n",
    "inactive_years = data_grouped.apply(lambda group: (group['sales'] == 0).sum())\n",
    "\n",
    "#Contando anos de \"dependência\"\n",
    "depend_years = data_grouped.apply(lambda group: (group['dependente'] == 1).sum())"
   ]
  },
  {
   "cell_type": "code",
   "execution_count": null,
   "id": "4c9dbe0e",
   "metadata": {},
   "outputs": [],
   "source": [
    "activity_df = pd.DataFrame({\"Total years\":comp_years,\n",
    "                            \"Active years\":active_years, \n",
    "                            \"Inactive years\":inactive_years,\n",
    "                            \"Dependent years\":depend_years})\n",
    "\n",
    "activity_df"
   ]
  },
  {
   "cell_type": "markdown",
   "id": "2c5026b4",
   "metadata": {
    "jupyter": {
     "outputs_hidden": false
    }
   },
   "source": [
    "## 2012"
   ]
  },
  {
   "cell_type": "code",
   "execution_count": null,
   "id": "f5b8e402",
   "metadata": {
    "jupyter": {
     "outputs_hidden": false
    }
   },
   "outputs": [
    {
     "data": {
      "text/plain": [
       "array([2012], dtype=int64)"
      ]
     },
     "execution_count": 4,
     "metadata": {},
     "output_type": "execute_result"
    }
   ],
   "source": [
    "data_2012 = data[data['year'] == 2012]\n",
    "data_2012.year.unique()"
   ]
  },
  {
   "cell_type": "code",
   "execution_count": null,
   "id": "1ca2261c",
   "metadata": {
    "jupyter": {
     "outputs_hidden": false
    }
   },
   "outputs": [],
   "source": [
    "import math"
   ]
  },
  {
   "cell_type": "markdown",
   "id": "bfa78107",
   "metadata": {
    "jupyter": {
     "outputs_hidden": false
    }
   },
   "source": [
    "### Sales"
   ]
  },
  {
   "cell_type": "code",
   "execution_count": null,
   "id": "f7690046",
   "metadata": {
    "jupyter": {
     "outputs_hidden": false
    }
   },
   "outputs": [],
   "source": [
    "data_2012.sales.describe()"
   ]
  },
  {
   "cell_type": "markdown",
   "id": "4c5415b9",
   "metadata": {
    "jupyter": {
     "outputs_hidden": false
    }
   },
   "source": [
    "Valores negativos não são válidos para a váriavel `sales`. O tratamento escolhido nesse caso é substituir valores negativos por 0."
   ]
  },
  {
   "cell_type": "code",
   "execution_count": null,
   "id": "6342e3db",
   "metadata": {
    "jupyter": {
     "outputs_hidden": false
    }
   },
   "outputs": [],
   "source": [
    "data_2012.loc[data['sales'] < 0] = 0\n",
    "data_2012.sales.describe()"
   ]
  },
  {
   "cell_type": "markdown",
   "id": "9c769632",
   "metadata": {
    "jupyter": {
     "outputs_hidden": false
    }
   },
   "source": [
    "Podemos ver ainda nas estatísticas descritivas que a média é maior que o terceiro quartil, indicando uma distribuição bastante assimétrica. Criamos então uma com o logarítmo de `sales` para auxiliar na análise."
   ]
  },
  {
   "cell_type": "code",
   "execution_count": null,
   "id": "641e3675",
   "metadata": {
    "jupyter": {
     "outputs_hidden": false
    }
   },
   "outputs": [],
   "source": [
    "data_2012.loc[:,'log_sales'] = data_2012.sales\\\n",
    "                                        .apply(lambda x: math.log(x)\\\n",
    "                                               if x != 0\\\n",
    "                                               else 0)\n",
    "\n",
    "data_2012.log_sales.describe()"
   ]
  },
  {
   "cell_type": "markdown",
   "id": "f196f016",
   "metadata": {
    "jupyter": {
     "outputs_hidden": false
    }
   },
   "source": [
    "### Idade da Empresa\n",
    "A idade da empresa eh calculada pela subtracao de `year` por `founded_year`, e a informacao eh guardada em `comp_age`."
   ]
  },
  {
   "cell_type": "code",
   "execution_count": null,
   "id": "f0b7c2d1",
   "metadata": {
    "jupyter": {
     "outputs_hidden": false
    }
   },
   "outputs": [],
   "source": [
    "data.year.isna().sum()"
   ]
  },
  {
   "cell_type": "code",
   "execution_count": null,
   "id": "b8051a99",
   "metadata": {
    "jupyter": {
     "outputs_hidden": false
    }
   },
   "outputs": [],
   "source": [
    "data.founded_year.isna().sum()"
   ]
  },
  {
   "cell_type": "code",
   "execution_count": null,
   "id": "9ab621f9",
   "metadata": {
    "jupyter": {
     "outputs_hidden": false
    }
   },
   "outputs": [],
   "source": [
    "duplicates = {'company': [], 'years': []}\n",
    "nulls = {'company': [], 'years': []}\n",
    "\n",
    "for company in data_2012.comp_id.unique():\n",
    "    company_year = data_2012.loc[data_2012['comp_id'] == company,\n",
    "                                 'founded_year'].unique()\n",
    "    if len(company_year) != 1:\n",
    "        duplicates['company'].append(company)\n",
    "        duplicates['years'].append(company_year)\n",
    "    elif np.nan in company_year:\n",
    "        nulls['company'].append(company)\n",
    "        nulls['years'].append(company_year)\n",
    "\n",
    "nulls"
   ]
  },
  {
   "cell_type": "code",
   "execution_count": null,
   "id": "5326a9e7",
   "metadata": {
    "jupyter": {
     "outputs_hidden": false
    }
   },
   "outputs": [],
   "source": [
    "data_2012.loc[data_2012['comp_id'] == 1001034,\n",
    "              'founded_year'].unique()"
   ]
  },
  {
   "cell_type": "code",
   "execution_count": null,
   "id": "8b4330b8",
   "metadata": {
    "jupyter": {
     "outputs_hidden": false
    }
   },
   "outputs": [],
   "source": [
    "data_2012.loc[(data_2012['comp_id'] == 1001034) &\n",
    "              (data_2012['founded_year'] == np.nan)]"
   ]
  },
  {
   "cell_type": "code",
   "execution_count": null,
   "id": "c46871d1",
   "metadata": {},
   "outputs": [],
   "source": [
    "data_2012.to_csv(\"data_2012\")"
   ]
  }
 ],
 "metadata": {
  "kernelspec": {
   "argv": [
    "/opt/conda/bin/python",
    "-m",
    "ipykernel_launcher",
    "-f",
    "{connection_file}"
   ],
   "display_name": "Python 3 (ipykernel)",
   "env": null,
   "interrupt_mode": "signal",
   "language": "python",
   "metadata": {
    "debugger": true
   },
   "name": "python3"
  },
  "language_info": {
   "codemirror_mode": {
    "name": "ipython",
    "version": 3
   },
   "file_extension": ".py",
   "mimetype": "text/x-python",
   "name": "python",
   "nbconvert_exporter": "python",
   "pygments_lexer": "ipython3",
   "version": "3.11.5"
  }
 },
 "nbformat": 4,
 "nbformat_minor": 5
}
