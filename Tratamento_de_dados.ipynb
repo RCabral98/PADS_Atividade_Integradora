{
 "cells": [
  {
   "cell_type": "markdown",
   "id": "19200d04",
   "metadata": {},
   "source": [
    "![Insper](https://github.com/danielscarvalho/Insper-DS-Dicas/blob/master/Insper-Logo.png?raw=true)\n",
    "\n",
    "# Insper Pós-Graduação\n",
    "## Programa Avançado em Data Science e Decisão [»](https://www.insper.edu.br/pos-graduacao/programas-avancados/programa-avancado-em-data-science-e-decisao/)\n"
   ]
  },
  {
   "cell_type": "markdown",
   "id": "bd53497e",
   "metadata": {},
   "source": [
    "# Atividade Integradora\n",
    "## Setup"
   ]
  },
  {
   "cell_type": "markdown",
   "id": "a89785bb",
   "metadata": {},
   "source": [
    "### Dependencias"
   ]
  },
  {
   "cell_type": "code",
   "execution_count": null,
   "id": "ee571d49",
   "metadata": {},
   "outputs": [],
   "source": [
    "import pandas as pd\n",
    "import numpy as np\n",
    "from dfply import *\n",
    "import altair as alt\n",
    "import missingno as msno\n",
    "from ydata_profiling import ProfileReport\n",
    "import matplotlib\n",
    "import matplotlib.pyplot as plt \n",
    "import statsmodels.api as sm\n",
    "import math"
   ]
  },
  {
   "cell_type": "markdown",
   "id": "7050ff5a",
   "metadata": {},
   "source": [
    "### Carregamento dos Dados"
   ]
  },
  {
   "cell_type": "code",
   "execution_count": null,
   "id": "f62b3424",
   "metadata": {},
   "outputs": [],
   "source": [
    "data = pd.read_csv(\"cs_bisnode_panel.csv\")\n",
    "dicionario_de_dados_0 = pd.read_excel(\"bisnode_variable_names.xls\", header=4)"
   ]
  },
  {
   "cell_type": "code",
   "execution_count": null,
   "id": "d59ed1c9",
   "metadata": {},
   "outputs": [],
   "source": [
    "data.head()"
   ]
  },
  {
   "cell_type": "markdown",
   "id": "c7eec859",
   "metadata": {},
   "source": [
    "## Limpeza dos Dados"
   ]
  },
  {
   "cell_type": "markdown",
   "id": "ae6a7773",
   "metadata": {},
   "source": [
    "### Dicionário de dados - Limpeza"
   ]
  },
  {
   "cell_type": "markdown",
   "id": "21ae71cf",
   "metadata": {},
   "source": [
    "Ao carregar o dicionário de dados a primeira coluna pega seu nome da quarta linha da tabela (argumento `header=4` acima). As outras três colunas são nomeadas abaixo."
   ]
  },
  {
   "cell_type": "code",
   "execution_count": null,
   "id": "87dad806",
   "metadata": {},
   "outputs": [],
   "source": [
    "dicionario_de_dados_1 = dicionario_de_dados_0.rename({'Unnamed: 1': 'description',\n",
    "                                                      'Unnamed: 2': 'type',\n",
    "                                                      'Unnamed: 3': 'footnote'},\n",
    "                                                     axis=1)"
   ]
  },
  {
   "cell_type": "code",
   "execution_count": null,
   "id": "49dd2c3f",
   "metadata": {},
   "outputs": [],
   "source": [
    "dicionario_de_dados_1.columns"
   ]
  },
  {
   "cell_type": "markdown",
   "id": "048efc9e",
   "metadata": {},
   "source": [
    "Então, retiramos as linhas não relevantes para a análise, incluindo linhas totalmente em branco e uma linha com informação de versão da base de dados: \n",
    " - `v 0.92. 2021-02-04`"
   ]
  },
  {
   "cell_type": "code",
   "execution_count": null,
   "id": "cb5fc133",
   "metadata": {},
   "outputs": [],
   "source": [
    "dicionario_de_dados = dicionario_de_dados_1\\\n",
    "                       .drop(index=54)\\\n",
    "                       .dropna(how=\"all\")\\\n",
    "                       .reset_index()\\\n",
    "                       .drop('index', axis='columns')"
   ]
  },
  {
   "cell_type": "code",
   "execution_count": null,
   "id": "e89116b8",
   "metadata": {},
   "outputs": [],
   "source": [
    "dicionario_de_dados.sample(5)"
   ]
  },
  {
   "cell_type": "markdown",
   "id": "2d4a7f09",
   "metadata": {},
   "source": [
    "## Dados\n",
    "### Removendo colunas específicas:"
   ]
  },
  {
   "cell_type": "code",
   "execution_count": null,
   "id": "99a70236",
   "metadata": {},
   "outputs": [],
   "source": [
    "columns_to_remove = ['COGS', 'finished_prod', 'net_dom_sales', 'net_exp_sales', 'wages', 'D']\n",
    "\n",
    "data.drop(columns=columns_to_remove, inplace=True)\n",
    "\n",
    "data.columns"
   ]
  },
  {
   "cell_type": "markdown",
   "id": "501c7584",
   "metadata": {},
   "source": [
    "### Removendo dados do ano 2016:\n",
    "---\n",
    "\n",
    "Registros que começaram ou terminaram (ocorreram em) 2016 são removidos do conjunto."
   ]
  },
  {
   "cell_type": "code",
   "execution_count": null,
   "id": "c024ebd4",
   "metadata": {},
   "outputs": [],
   "source": [
    "data = data[data[\"year\"]!=2016]\n",
    "data[\"year\"].unique()"
   ]
  },
  {
   "cell_type": "markdown",
   "id": "bb345531",
   "metadata": {},
   "source": [
    "Dados destas colunas precisam estar em formato de datetime para serem operados corretamente, então vamos converte-los."
   ]
  },
  {
   "cell_type": "code",
   "execution_count": null,
   "id": "f8f86763",
   "metadata": {},
   "outputs": [],
   "source": [
    "colunas_data = [\"begin\", \"end\", \"founded_date\", \"exit_date\"]\n",
    "\n",
    "data.dtypes[colunas_data]"
   ]
  },
  {
   "cell_type": "code",
   "execution_count": null,
   "id": "2847ecd3",
   "metadata": {},
   "outputs": [],
   "source": [
    "for column in colunas_data:\n",
    "    data[column] = pd.to_datetime(data[column], format=\"%Y-%m-%d\")\n",
    "\n",
    "data[colunas_data].dtypes"
   ]
  },
  {
   "cell_type": "markdown",
   "id": "66a51a40",
   "metadata": {},
   "source": [
    "### Missing data:\n",
    "---\n",
    "\n",
    "Vamos verificar dados faltando do banco de dados:"
   ]
  },
  {
   "cell_type": "code",
   "execution_count": null,
   "id": "8c5c46b0",
   "metadata": {},
   "outputs": [],
   "source": [
    "def show_missing(df):\n",
    "    \"\"\"Return a Pandas dataframe describing the contents of a source dataframe including missing values.\"\"\"\n",
    "    \n",
    "    variables = []\n",
    "    dtypes = []\n",
    "    count = []\n",
    "    unique = []\n",
    "    missing = []\n",
    "    pc_missing = []\n",
    "    \n",
    "    for item in df.columns:\n",
    "        variables.append(item)\n",
    "        dtypes.append(df[item].dtype)\n",
    "        count.append(len(df[item]))\n",
    "        unique.append(len(df[item].unique()))\n",
    "        missing.append(df[item].isna().sum())\n",
    "        pc_missing.append(round((df[item].isna().sum() / len(df[item])) * 100, 2))\n",
    "\n",
    "    output = pd.DataFrame({\n",
    "        'variable': variables, \n",
    "        'dtype': dtypes,\n",
    "        'count': count,\n",
    "        'unique': unique,\n",
    "        'missing': missing, \n",
    "        'pc_missing': pc_missing\n",
    "    })    \n",
    "        \n",
    "    return output"
   ]
  },
  {
   "cell_type": "markdown",
   "id": "aab9a4c5",
   "metadata": {},
   "source": [
    "Verificando dados com maior falta de informações:"
   ]
  },
  {
   "cell_type": "code",
   "execution_count": null,
   "id": "acc51f54",
   "metadata": {},
   "outputs": [],
   "source": [
    "missing_data = show_missing(data).sort_values(\"pc_missing\", ascending=False, ignore_index = True)\n",
    "\n",
    "index_full_data = list(missing_data[missing_data[\"missing\"]==0].index)\n",
    "\n",
    "missing_data.drop(labels=index_full_data, axis=\"index\", inplace=True)\n",
    "\n",
    "missing_data"
   ]
  },
  {
   "cell_type": "markdown",
   "id": "2b4ebc62",
   "metadata": {},
   "source": [
    "Vamos iniciar tratando os dados que estejam com menos de 5% de dados faltando.\n",
    "\n",
    "Podemos considerar que pela quantidade de dados estes casos são insignificantes no escopo total então vamos apenas remover estes.\n",
    "\n",
    "(apenas para as colunas com baixa falta de dados \">5%\")"
   ]
  },
  {
   "cell_type": "code",
   "execution_count": null,
   "id": "98dd4700",
   "metadata": {},
   "outputs": [],
   "source": [
    "removable_na_columns = list(missing_data[\"variable\"][missing_data[\"pc_missing\"]<5.0])\n",
    "\n",
    "data.dropna(subset=removable_na_columns, ignore_index=True, inplace=True)"
   ]
  },
  {
   "cell_type": "code",
   "execution_count": null,
   "id": "abb1e2f1",
   "metadata": {},
   "outputs": [],
   "source": [
    "missing_val_columns = missing_data[\"variable\"][missing_data[\"pc_missing\"]>0]"
   ]
  },
  {
   "cell_type": "code",
   "execution_count": null,
   "id": "2d3ca687",
   "metadata": {},
   "outputs": [],
   "source": [
    "msno.bar(data[missing_val_columns], figsize=(16, 4))"
   ]
  },
  {
   "cell_type": "code",
   "execution_count": null,
   "id": "c8d44845",
   "metadata": {},
   "outputs": [],
   "source": [
    "missing_data_2 = show_missing(data).sort_values(\"pc_missing\", ascending=False, ignore_index = True)\n",
    "\n",
    "index_full_data_2 = list(missing_data_2[missing_data_2[\"missing\"]==0].index)\n",
    "\n",
    "missing_data_2.drop(labels=index_full_data_2, axis=\"index\", inplace=True)\n",
    "\n",
    "missing_data_2"
   ]
  },
  {
   "cell_type": "markdown",
   "id": "99abaf0a",
   "metadata": {},
   "source": [
    "### Criando coluna para Variável Dependente:\n",
    "---\n",
    "\n",
    "- Vamos operar com o conceito de \"atividade\", empresas que não tiveram atividade por mais de 2 anos são consideradas \"inativas\".\n",
    "\n",
    "Obs.: ativa = 0, inativa = 1"
   ]
  },
  {
   "cell_type": "code",
   "execution_count": null,
   "id": "b4a3f70f",
   "metadata": {},
   "outputs": [],
   "source": [
    "# Sort the DataFrame by company and year\n",
    "data.sort_values(by=['comp_id', 'year'], inplace=True)\n",
    "\n",
    "# Create shifted columns to check sales in the following 2 years\n",
    "conditions_x1 = [((data['comp_id'] == data['comp_id'].shift(-1)) &\n",
    "                  (data['year'] == data['year'].shift(-1) - 1)),\n",
    "\n",
    "                 ((data['comp_id'] != data['comp_id'].shift(-1)) |\n",
    "                  data['year'] != data['year'].shift(-1))]\n",
    "\n",
    "values_x1 = [data['sales'].shift(-1),\n",
    "             np.nan]\n",
    "\n",
    "data['sales_x1'] = np.select(conditions_x1, values_x1)\n",
    "\n",
    "\n",
    "conditions_x2 = [\n",
    "    ((data['comp_id'] == data['comp_id'].shift(-1)) &   \n",
    "     (data['year'] == data['year'].shift(-1) - 2)),\n",
    "\n",
    "    ((data['comp_id'] == data['comp_id'].shift(-2)) &\n",
    "     (data['year'] == data['year'].shift(-2) - 2)),\n",
    "\n",
    "    True\n",
    "]\n",
    "\n",
    "values_x2 = [data['sales'].shift(-1),\n",
    "             data['sales'].shift(-2),\n",
    "             np.nan]\n",
    "\n",
    "data['sales_x2'] = np.select(conditions_x2, values_x2)\n",
    "\n",
    "\n",
    "# Create a condition to identify companies that ceased to operate \n",
    "# (sem vendas por mais de 2 anos)\n",
    "condition = ((data[\"sales_x1\"]==0) & (data[\"sales_x2\"]==0))\n",
    "\n",
    "\n",
    "# Create a new 'dependente' column with 1 for ceased companies and 0 otherwise\n",
    "data['fechado'] = condition.astype(int)\n"
   ]
  },
  {
   "cell_type": "markdown",
   "id": "80f8dd79",
   "metadata": {},
   "source": [
    "Vamos conferir os valores da variavel dependente para as duas primeiras empresas do dataframe:"
   ]
  },
  {
   "cell_type": "code",
   "execution_count": null,
   "id": "120e1032",
   "metadata": {},
   "outputs": [],
   "source": [
    "# lista de colunas para avaliação:\n",
    "check_list=[\"comp_id\", \"year\", \"exit_year\",\"sales\", \"sales_x1\", \"sales_x2\", \"fechado\"]\n",
    "\n",
    "filtro = data[check_list]\n",
    "filtro[filtro[\"comp_id\"] == 1001034]"
   ]
  },
  {
   "cell_type": "code",
   "execution_count": null,
   "id": "6a7b10f0",
   "metadata": {},
   "outputs": [],
   "source": [
    "data[check_list].describe()"
   ]
  },
  {
   "cell_type": "markdown",
   "id": "e93fa20a",
   "metadata": {},
   "source": [
    "Vemos que temos dados de venda com erros, onde há valores negativos para vendas, vamos tratar estes dados substituindo valores negativos por nulos (valor = 0)"
   ]
  },
  {
   "cell_type": "code",
   "execution_count": null,
   "id": "121e585a",
   "metadata": {},
   "outputs": [],
   "source": [
    "# Remodelando os dados de vendas para corrigir os erros:\n",
    "\n",
    "for x in [\"sales\", \"sales_x1\", \"sales_x2\"]:\n",
    "    data[x] = np.where(data[x]<0, 0, data[x])\n",
    "\n",
    "data['fechado'] = condition.astype(int)"
   ]
  },
  {
   "cell_type": "code",
   "execution_count": null,
   "id": "893d19bf",
   "metadata": {},
   "outputs": [],
   "source": [
    "data[check_list].describe()"
   ]
  },
  {
   "cell_type": "markdown",
   "id": "27e7b99a",
   "metadata": {},
   "source": [
    "Corrigimos os valores de vendas negativas, e assim também de dependentes que pudessem estar sendo afetados.\n",
    "\n",
    "Vamos agora:\n",
    " \n",
    "- tratar por fim os casos em que não há informações de venda para um próximo ano (por não haver um próximo ano;\n",
    "\n",
    "- criar uma coluna de vendas em \"Log\" para tratar a assimetria dos dados."
   ]
  },
  {
   "cell_type": "markdown",
   "id": "f1daf1bd",
   "metadata": {},
   "source": [
    "Vamos averiguar agora os anos em que as empresas tiveram atividade e inatividade:"
   ]
  },
  {
   "cell_type": "code",
   "execution_count": null,
   "id": "ccde17eb",
   "metadata": {},
   "outputs": [],
   "source": [
    "data_grouped = data.groupby('comp_id')\n",
    "\n",
    "#Contando anos de acompanhamento\n",
    "comp_years = data_grouped['year'].count()\n",
    "\n",
    "#Contando anos de \"atividade\"\n",
    "active_years = data_grouped.apply(lambda group: (group['sales'] > 0).sum())\n",
    "\n",
    "#contando anos sem vendas\n",
    "years_no_sales = data_grouped.apply(lambda group: (group['sales'] == 0).sum())\n",
    "\n",
    "#Contando anos de \"inatividade\"\n",
    "inative_years = data_grouped.apply(lambda group: (group['fechado'] == 1).sum())"
   ]
  },
  {
   "cell_type": "code",
   "execution_count": null,
   "id": "4c9dbe0e",
   "metadata": {},
   "outputs": [],
   "source": [
    "activity_df = pd.DataFrame({\"Total years\":comp_years,\n",
    "                            \"Active years\":active_years, \n",
    "                            \"Year no sales\":years_no_sales,\n",
    "                            \"Inative years\":inative_years})\n",
    "\n",
    "activity_df"
   ]
  },
  {
   "cell_type": "markdown",
   "id": "2c5026b4",
   "metadata": {
    "jupyter": {
     "outputs_hidden": false
    }
   },
   "source": [
    "## 2012"
   ]
  },
  {
   "cell_type": "code",
   "execution_count": null,
   "id": "f5b8e402",
   "metadata": {
    "jupyter": {
     "outputs_hidden": false
    }
   },
   "outputs": [],
   "source": [
    "data_2012 = data[data['year'] == 2012].copy()\n",
    "data_2012.year.unique()"
   ]
  },
  {
   "cell_type": "markdown",
   "id": "bfa78107",
   "metadata": {
    "jupyter": {
     "outputs_hidden": false
    }
   },
   "source": [
    "### Sales"
   ]
  },
  {
   "cell_type": "code",
   "execution_count": null,
   "id": "f7690046",
   "metadata": {
    "jupyter": {
     "outputs_hidden": false
    }
   },
   "outputs": [],
   "source": [
    "data_2012.sales.describe()"
   ]
  },
  {
   "cell_type": "markdown",
   "id": "4c5415b9",
   "metadata": {
    "jupyter": {
     "outputs_hidden": false
    }
   },
   "source": [
    "Valores negativos não são válidos para a váriavel `sales`. O tratamento escolhido nesse caso é substituir valores negativos por 0."
   ]
  },
  {
   "cell_type": "code",
   "execution_count": null,
   "id": "6342e3db",
   "metadata": {
    "jupyter": {
     "outputs_hidden": false
    }
   },
   "outputs": [],
   "source": [
    "data_2012.loc[data['sales'] < 0] = 0\n",
    "data_2012.sales.describe()"
   ]
  },
  {
   "cell_type": "markdown",
   "id": "9c769632",
   "metadata": {
    "jupyter": {
     "outputs_hidden": false
    }
   },
   "source": [
    "Podemos ver ainda nas estatísticas descritivas que a média é maior que o terceiro quartil, indicando uma distribuição bastante assimétrica. Criamos então uma com o logarítmo de `sales` para auxiliar na análise."
   ]
  },
  {
   "cell_type": "code",
   "execution_count": null,
   "id": "641e3675",
   "metadata": {
    "jupyter": {
     "outputs_hidden": false
    }
   },
   "outputs": [],
   "source": [
    "data_2012.loc[:,'log_sales'] = data_2012.sales\\\n",
    "                                        .apply(lambda x: math.log(x)\\\n",
    "                                               if x != 0\\\n",
    "                                               else 0)\n",
    "\n",
    "data_2012.log_sales.describe()"
   ]
  },
  {
   "cell_type": "markdown",
   "id": "f196f016",
   "metadata": {
    "jupyter": {
     "outputs_hidden": false
    }
   },
   "source": [
    "### Idade da Empresa\n",
    "A idade da empresa eh calculada pela subtracao de `year` por `founded_year`, e a informacao eh guardada em `comp_age`."
   ]
  },
  {
   "cell_type": "code",
   "execution_count": null,
   "id": "f0b7c2d1",
   "metadata": {
    "jupyter": {
     "outputs_hidden": false
    }
   },
   "outputs": [],
   "source": [
    "data.year.isna().sum()"
   ]
  },
  {
   "cell_type": "code",
   "execution_count": null,
   "id": "b8051a99",
   "metadata": {
    "jupyter": {
     "outputs_hidden": false
    }
   },
   "outputs": [],
   "source": [
    "data.founded_year.isna().sum()"
   ]
  },
  {
   "cell_type": "code",
   "execution_count": null,
   "id": "9ab621f9",
   "metadata": {
    "jupyter": {
     "outputs_hidden": false
    }
   },
   "outputs": [],
   "source": [
    "duplicates = {'company': [], 'years': []}\n",
    "nulls = {'company': [], 'years': []}\n",
    "\n",
    "for company in data_2012.comp_id.unique():\n",
    "    company_year = data_2012.loc[data_2012['comp_id'] == company,\n",
    "                                 'founded_year'].unique()\n",
    "    if len(company_year) != 1:\n",
    "        duplicates['company'].append(company)\n",
    "        duplicates['years'].append(company_year)\n",
    "    elif np.nan in company_year:\n",
    "        nulls['company'].append(company)\n",
    "        nulls['years'].append(company_year)\n",
    "\n",
    "nulls"
   ]
  },
  {
   "cell_type": "code",
   "execution_count": null,
   "id": "5326a9e7",
   "metadata": {
    "jupyter": {
     "outputs_hidden": false
    }
   },
   "outputs": [],
   "source": [
    "data_2012.loc[data_2012['comp_id'] == 1001034,\n",
    "              'founded_year'].unique()"
   ]
  },
  {
   "cell_type": "code",
   "execution_count": null,
   "id": "8b4330b8",
   "metadata": {
    "jupyter": {
     "outputs_hidden": false
    }
   },
   "outputs": [],
   "source": [
    "data_2012.loc[(data_2012['comp_id'] == 1001034) &\n",
    "              (data_2012['founded_year'] == np.nan)]"
   ]
  },
  {
   "cell_type": "markdown",
   "id": "895cc959",
   "metadata": {},
   "source": [
    "Criação de variáveis"
   ]
  },
  {
   "cell_type": "code",
   "execution_count": null,
   "id": "b94d1672",
   "metadata": {},
   "outputs": [],
   "source": [
    "# 1. Idade da Empresa:\n",
    "data_2012['company_age'] = 2012 - data_2012['founded_year']"
   ]
  },
  {
   "cell_type": "code",
   "execution_count": null,
   "id": "7066ef8c",
   "metadata": {},
   "outputs": [],
   "source": [
    "# 2. Taxa de Crescimento de Vendas:\n",
    "# Taxa de crescimento: (valor_atual - valor_anterior) / valor_anterior\n",
    "data_2012['sales_growth_rate'] = (data_2012['sales'] - data_2012['sales_x1']) / data_2012['sales_x1']"
   ]
  },
  {
   "cell_type": "code",
   "execution_count": null,
   "id": "5e9c4f5a",
   "metadata": {},
   "outputs": [],
   "source": [
    "# 3. Alavancagem Financeira:\n",
    "data_2012['financial_leverage'] = data_2012['curr_liab'] / data_2012['share_eq']"
   ]
  },
  {
   "cell_type": "code",
   "execution_count": null,
   "id": "f07ab09b",
   "metadata": {},
   "outputs": [],
   "source": [
    "# 4. Liquidez:\n",
    "data_2012['liquidity_ratio'] = data_2012['liq_assets'] / data_2012['curr_liab']"
   ]
  },
  {
   "cell_type": "code",
   "execution_count": null,
   "id": "ca40434e",
   "metadata": {},
   "outputs": [],
   "source": [
    "# 5. Eficiência:\n",
    "data_2012['efficiency'] = data_2012['sales'] / data_2012['labor_avg']"
   ]
  },
  {
   "cell_type": "code",
   "execution_count": null,
   "id": "47855ad1",
   "metadata": {},
   "outputs": [],
   "source": [
    "# 6. Duração do CEO no Cargo:\n",
    "data_2012['ceo_duration_years'] = data_2012['inoffice_days'] / 365.0"
   ]
  },
  {
   "cell_type": "code",
   "execution_count": null,
   "id": "e5fe53c7",
   "metadata": {},
   "outputs": [],
   "source": [
    "# 7. Tamanho da Empresa (exemplo baseado em vendas):\n",
    "sales_bins = [0, 1e6, 1e9, float('inf')]  # Exemplo de categorias: <1M, 1M-1B, >1B\n",
    "labels = ['small', 'medium', 'large']\n",
    "data_2012['company_size'] = pd.cut(data_2012['sales'], bins=sales_bins, labels=labels, right=False)"
   ]
  },
  {
   "cell_type": "code",
   "execution_count": null,
   "id": "b02a0d9e",
   "metadata": {},
   "outputs": [],
   "source": [
    "# 8. Margem de Lucro:\n",
    "data_2012['profit_margin'] = data_2012['profit_loss_year'] / data_2012['sales']"
   ]
  },
  {
   "cell_type": "code",
   "execution_count": null,
   "id": "c46871d1",
   "metadata": {},
   "outputs": [],
   "source": [
    "data_2012.to_csv(\"data_2012\")"
   ]
  }
 ],
 "metadata": {
  "kernelspec": {
   "argv": [
    "/opt/conda/bin/python",
    "-m",
    "ipykernel_launcher",
    "-f",
    "{connection_file}"
   ],
   "display_name": "Python 3 (ipykernel)",
   "env": null,
   "interrupt_mode": "signal",
   "language": "python",
   "metadata": {
    "debugger": true
   },
   "name": "python3"
  },
  "language_info": {
   "codemirror_mode": {
    "name": "ipython",
    "version": 3
   },
   "file_extension": ".py",
   "mimetype": "text/x-python",
   "name": "python",
   "nbconvert_exporter": "python",
   "pygments_lexer": "ipython3",
   "version": "3.11.5"
  }
 },
 "nbformat": 4,
 "nbformat_minor": 5
}
